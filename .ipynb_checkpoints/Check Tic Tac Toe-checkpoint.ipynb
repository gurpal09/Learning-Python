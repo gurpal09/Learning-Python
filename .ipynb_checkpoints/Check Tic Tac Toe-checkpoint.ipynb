{
 "cells": [
  {
   "cell_type": "markdown",
   "metadata": {},
   "source": [
    "Today, we will simply focus on checking whether someone has WON a game of Tic Tac Toe, not worrying about how the moves were made.\n",
    "\n",
    "If a game of Tic Tac Toe is represented as a list of lists, like so:\n",
    "\n",
    "game = [[1, 2, 0],\n",
    "\t[2, 1, 0],\n",
    "\t[2, 1, 1]]\n",
    "where a 0 means an empty square, a 1 means that player 1 put their token in that space, and a 2 means that player 2 put their token in that space.\n",
    "\n",
    "Your task this week: given a 3 by 3 list of lists that represents a Tic Tac Toe game board, tell me whether anyone has won, and tell me which player won, if any. A Tic Tac Toe win is 3 in a row - either in a row, a column, or a diagonal. Don’t worry about the case where TWO people have won - assume that in every board there will only be one winner.\n",
    "Here are some more examples to work with:\n",
    "\n",
    "winner_is_2 = [[2, 2, 0],\n",
    "\t[2, 1, 0],\n",
    "\t[2, 1, 1]]\n",
    "\n",
    "winner_is_1 = [[1, 2, 0],\n",
    "\t[2, 1, 0],\n",
    "\t[2, 1, 1]]\n",
    "\n",
    "winner_is_also_1 = [[0, 1, 0],\n",
    "\t[2, 1, 0],\n",
    "\t[2, 1, 1]]\n",
    "\n",
    "no_winner = [[1, 2, 0],\n",
    "\t[2, 1, 0],\n",
    "\t[2, 1, 2]]\n",
    "\n",
    "also_no_winner = [[1, 2, 0],\n",
    "\t[2, 1, 0],\n",
    "\t[2, 1, 0]]"
   ]
  },
  {
   "cell_type": "code",
   "execution_count": 103,
   "metadata": {},
   "outputs": [],
   "source": [
    "# input -> 3 x 3 list\n",
    "lol = [[1,1,2],[1, 1, 0],[1,1,1]]\n"
   ]
  },
  {
   "cell_type": "code",
   "execution_count": 98,
   "metadata": {},
   "outputs": [],
   "source": [
    "# Function to check linear match\n",
    "def check_linear(gameboard):\n",
    "    N = 3\n",
    "    # Check for horizontal match\n",
    "    for i in range(0,N):\n",
    "        if gameboard[i][0] != 0:\n",
    "            if gameboard[i][0] == gameboard[i][1] and gameboard[i][1] == gameboard[i][2]:\n",
    "                print('Match H')\n",
    "                return gameboard[i][0]\n",
    "\n",
    "    # Check for vertical match\n",
    "    for i in range(0,N):\n",
    "        if gameboard[0][i] !=0:\n",
    "            if gameboard[0][i] == gameboard[1][i] and gameboard[1][i] == gameboard[2][i]:\n",
    "                print('Match V')\n",
    "                return gameboard[0][1]"
   ]
  },
  {
   "cell_type": "code",
   "execution_count": 99,
   "metadata": {},
   "outputs": [],
   "source": [
    "# Function to check horizontal match\n",
    "def check_diagonal(gameboard):\n",
    "    if gameboard[1][1] != 0:\n",
    "        # Checks diagonal right\n",
    "        if gameboard[1][1] == gameboard[0][0] and gameboard[0][0] == gameboard[2][2]:\n",
    "            print('Match D 1')\n",
    "            return gameboard[1][1]\n",
    "        # Checks diagonal left\n",
    "        elif gameboard[1][1] == gameboard[0][2]and gameboard[0][2] == gameboard[2][0]:\n",
    "            print('Match D 2')\n",
    "            return gameboard[1][1]\n",
    "                        "
   ]
  },
  {
   "cell_type": "code",
   "execution_count": 107,
   "metadata": {},
   "outputs": [],
   "source": [
    "# Function to check which player won\n",
    "def check_player(result):\n",
    "    if result == 1:\n",
    "        print('Player 1 won!')\n",
    "    elif result == 2:\n",
    "        print('Player 2 won!')\n",
    "    else:\n",
    "        print('Continue to next move...')"
   ]
  },
  {
   "cell_type": "code",
   "execution_count": 108,
   "metadata": {},
   "outputs": [
    {
     "name": "stdout",
     "output_type": "stream",
     "text": [
      "Match D 1\n",
      "1\n",
      "Player 1 won!\n"
     ]
    }
   ],
   "source": [
    "result = check_diagonal(lol)\n",
    "\n",
    "check_player(result)"
   ]
  },
  {
   "cell_type": "code",
   "execution_count": null,
   "metadata": {},
   "outputs": [],
   "source": []
  }
 ],
 "metadata": {
  "kernelspec": {
   "display_name": "Python 3",
   "language": "python",
   "name": "python3"
  },
  "language_info": {
   "codemirror_mode": {
    "name": "ipython",
    "version": 3
   },
   "file_extension": ".py",
   "mimetype": "text/x-python",
   "name": "python",
   "nbconvert_exporter": "python",
   "pygments_lexer": "ipython3",
   "version": "3.7.1"
  }
 },
 "nbformat": 4,
 "nbformat_minor": 2
}
