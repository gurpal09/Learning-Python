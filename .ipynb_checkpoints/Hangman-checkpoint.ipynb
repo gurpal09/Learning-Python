{
 "cells": [
  {
   "cell_type": "markdown",
   "metadata": {},
   "source": [
    "n Part 1, we loaded a random word list and picked a word from it. In Part 2, we wrote the logic for guessing the letter and displaying that information to the user. In this exercise, we have to put it all together and add logic for handling guesses.\n",
    "\n",
    "Copy your code from Parts 1 and 2 into a new file as a starting point. Now add the following features:\n",
    "\n",
    "Only let the user guess 6 times, and tell the user how many guesses they have left.\n",
    "Keep track of the letters the user guessed. If the user guesses a letter they already guessed, don’t penalize them - let them guess again.\n",
    "Optional additions:\n",
    "\n",
    "When the player wins or loses, let them start a new game.\n",
    "Rather than telling the user \"You have 4 incorrect guesses left\", display some picture art for the Hangman. This is challenging - do the other parts of the exercise first!"
   ]
  },
  {
   "cell_type": "code",
   "execution_count": 3,
   "metadata": {},
   "outputs": [],
   "source": [
    "# Function to get the length of text file of words\n",
    "def get_count():\n",
    "    counter = 0\n",
    "    with open('sowpods.txt','r') as f:\n",
    "        line = f.readline()\n",
    "        while line:\n",
    "           # print(line)\n",
    "            line = f.readline()\n",
    "            counter +=1        \n",
    "    return counter\n",
    "\n",
    "# Function to return a random word\n",
    "def pick_word(count):\n",
    "    import random\n",
    "    r = random.randint(0,count)\n",
    "\n",
    "    counter = 0\n",
    "    with open('sowpods.txt','r') as f:\n",
    "        line = f.readline()\n",
    "        while line:\n",
    "            if counter == r:\n",
    "                line = line[0:len(line)-1]\n",
    "                return line.lower()\n",
    "            line = f.readline()\n",
    "            counter += 1\n",
    "\n",
    "# Function to prompt user for input            \n",
    "def get_input():\n",
    "    while True:\n",
    "        letter = input('Enter your letter: ')\n",
    "    \n",
    "        if letter.isalpha() and len(letter) == 1:\n",
    "            break\n",
    "    letter.lower()\n",
    "    return letter\n",
    "\n",
    "# Function to print word to screen\n",
    "def print_to_screen(letter, word, myset):\n",
    "    for letter in word: \n",
    "        if letter in myset:\n",
    "            print('_ ',end='')\n",
    "        else:\n",
    "            print(letter + ' ',end ='')\n",
    "            \n",
    "def make_move(word):\n",
    "    guessword = ''\n",
    "    guesscounter = 0\n",
    "    turn = 0\n",
    "    # Keep track of used letters \n",
    "    used = set()\n",
    "\n",
    "    winning_letters = set(word)\n",
    "\n",
    "    while True:\n",
    "    \n",
    "        guess = get_input()\n",
    "    \n",
    "        # Case where same letter gets guessed twice\n",
    "        while guess in used:\n",
    "            print('This letter has already been guessed. Guess Again!')\n",
    "            guess = get_input()\n",
    "    \n",
    "        # Check if guess is in the word and remove letter from that set\n",
    "        if guess in winning_letters:\n",
    "            winning_letters.remove(guess)\n",
    "          \n",
    "        # if letter is not in word then penalize\n",
    "        if guess not in word:\n",
    "            guesscounter += 1\n",
    "          \n",
    "        # Check for turn condition\n",
    "        if guesscounter > 5:\n",
    "            print('Game Over! You have used all guesses')\n",
    "            print('The correct word was: ', word)\n",
    "            return -1\n",
    "        \n",
    "        turn +=1\n",
    "        used.add(guess)\n",
    "    \n",
    "        # Print to screen\n",
    "        print_to_screen(guess, word, winning_letters)\n",
    "    \n",
    "        # Break the loop when the winning letter set is empty\n",
    "        if len(winning_letters) == 0:\n",
    "            print('Game Over. Winner!!!')\n",
    "            break\n",
    "        print('Word: ',guessword)\n",
    "        print('GuessCounter: ',guesscounter)\n",
    "    \n",
    "    print('Game lasted '+ str(turn) + ' turns')\n",
    "\n",
    "# Function to prompt user for new game or end session\n",
    "def new_game(count):\n",
    "    while True:\n",
    "        if count == 0:\n",
    "            print('********************Welcome to Hangman********************')\n",
    "            count = get_count()\n",
    "            word = pick_word(count)\n",
    "            print('The word is: ',word)\n",
    "            make_move(word)\n",
    "        else:\n",
    "            usr_input = input('Enter y to play another game or n to exit: ')\n",
    "            if usr_input == 'y':\n",
    "                print('Starting new game...')\n",
    "                count = get_count()\n",
    "                word = pick_word(count)\n",
    "                print('The word is: ',word)\n",
    "                print('********************Welcome to Hangman********************')\n",
    "                make_move(word)\n",
    "            elif usr_input == 'n':\n",
    "                print('Ending Session. Thanks for playing...')\n",
    "                break"
   ]
  },
  {
   "cell_type": "code",
   "execution_count": 27,
   "metadata": {},
   "outputs": [
    {
     "name": "stdout",
     "output_type": "stream",
     "text": [
      "prays\n",
      "5\n",
      "I am a alpha\n",
      "I am a alpha\n",
      "I am a alpha\n",
      "I am a alpha\n",
      "I am a alpha\n"
     ]
    }
   ],
   "source": [
    "word = pick_word(get_count())\n",
    "print(word)\n",
    "\n",
    "print(len(word))\n",
    "\n",
    "for i in word:\n",
    "    \n",
    "    if i.isalpha():\n",
    "        print('I am a alpha')\n",
    "    else:\n",
    "        print('i= ',i)\n",
    "    if i == ' ':\n",
    "        print('Space detected')\n",
    "        \n"
   ]
  },
  {
   "cell_type": "code",
   "execution_count": 4,
   "metadata": {},
   "outputs": [
    {
     "name": "stdout",
     "output_type": "stream",
     "text": [
      "********************Welcome to Hangman********************\n",
      "Enter your letter: d\n",
      "d _ _ _ _ _ _ Word:  \n",
      "GuessCounter:  0\n",
      "Enter your letter: s\n",
      "d _ _ _ _ _ s Word:  \n",
      "GuessCounter:  0\n",
      "Enter your letter: l\n",
      "d _ _ _ _ _ s Word:  \n",
      "GuessCounter:  1\n",
      "Enter your letter: v\n",
      "d _ v _ _ _ s Word:  \n",
      "GuessCounter:  1\n",
      "Enter your letter: d\n",
      "This letter has already been guessed. Guess Again!\n",
      "Enter your letter: j\n",
      "d _ v _ _ _ s Word:  \n",
      "GuessCounter:  2\n",
      "Enter your letter: i\n",
      "d _ v _ _ _ s Word:  \n",
      "GuessCounter:  3\n",
      "Enter your letter: l\n",
      "This letter has already been guessed. Guess Again!\n",
      "Enter your letter: d\n",
      "This letter has already been guessed. Guess Again!\n",
      "Enter your letter: s\n",
      "This letter has already been guessed. Guess Again!\n",
      "Enter your letter: a\n",
      "d _ v _ _ _ s Word:  \n",
      "GuessCounter:  4\n",
      "Enter your letter: e\n",
      "d e v _ _ e s Word:  \n",
      "GuessCounter:  4\n",
      "Enter your letter: u\n",
      "d e v _ _ e s Word:  \n",
      "GuessCounter:  5\n",
      "Enter your letter: v\n",
      "This letter has already been guessed. Guess Again!\n",
      "Enter your letter: c\n",
      "Game Over! You have used all guesses\n",
      "The correct word was:  devotes\n",
      "Enter y to play another game or n to exit: y\n",
      "Starting new game...\n",
      "The word is:  backslappers\n",
      "********************Welcome to Hangman********************\n",
      "Enter your letter: b\n",
      "b _ _ _ _ _ _ _ _ _ _ _ Word:  \n",
      "GuessCounter:  0\n",
      "Enter your letter: a\n",
      "b a _ _ _ _ a _ _ _ _ _ Word:  \n",
      "GuessCounter:  0\n",
      "Enter your letter: c\n",
      "b a c _ _ _ a _ _ _ _ _ Word:  \n",
      "GuessCounter:  0\n",
      "Enter your letter: k\n",
      "b a c k _ _ a _ _ _ _ _ Word:  \n",
      "GuessCounter:  0\n",
      "Enter your letter: s\n",
      "b a c k s _ a _ _ _ _ s Word:  \n",
      "GuessCounter:  0\n",
      "Enter your letter: l\n",
      "b a c k s l a _ _ _ _ s Word:  \n",
      "GuessCounter:  0\n",
      "Enter your letter: a\n",
      "This letter has already been guessed. Guess Again!\n",
      "Enter your letter: p\n",
      "b a c k s l a p p _ _ s Word:  \n",
      "GuessCounter:  0\n",
      "Enter your letter: p\n",
      "This letter has already been guessed. Guess Again!\n",
      "Enter your letter: e\n",
      "b a c k s l a p p e _ s Word:  \n",
      "GuessCounter:  0\n",
      "Enter your letter: r\n",
      "b a c k s l a p p e r s Game Over. Winner!!!\n",
      "Game lasted 9 turns\n",
      "Enter y to play another game or n to exit: n\n",
      "Ending Session. Thanks for playing...\n",
      "Enter y to play another game or n to exit: n\n",
      "Ending Session. Thanks for playing...\n"
     ]
    }
   ],
   "source": [
    "# ********** Main ************\n",
    "\n",
    "count = 0\n",
    "\n",
    "new_game(count)\n",
    "count +=1\n",
    "new_game(count)\n"
   ]
  },
  {
   "cell_type": "code",
   "execution_count": null,
   "metadata": {},
   "outputs": [],
   "source": [
    "# Draw the hangman\n",
    "# Display how many guesses the user has left \n",
    "\n"
   ]
  },
  {
   "cell_type": "code",
   "execution_count": 22,
   "metadata": {},
   "outputs": [],
   "source": [
    "def print_head():\n",
    "    print('|||||||||||')\n",
    "    print('|  o   o  |')\n",
    "    print(' |   __  |')\n",
    "    print('  \\  __ /')"
   ]
  },
  {
   "cell_type": "code",
   "execution_count": 23,
   "metadata": {},
   "outputs": [
    {
     "name": "stdout",
     "output_type": "stream",
     "text": [
      "|||||||||||\n",
      "|  o   o  |\n",
      " |   __  |\n",
      "  \\  __ /\n"
     ]
    }
   ],
   "source": [
    "print_head()"
   ]
  },
  {
   "cell_type": "code",
   "execution_count": 40,
   "metadata": {},
   "outputs": [],
   "source": [
    "def print_body():\n",
    "    print('____|   |____')\n",
    "    print('|            |')\n",
    "    print('|    GUCCI   |')\n",
    "    print('|            |')\n",
    "    print('\\            /')\n",
    "    print(' \\__________/')"
   ]
  },
  {
   "cell_type": "code",
   "execution_count": 41,
   "metadata": {},
   "outputs": [
    {
     "name": "stdout",
     "output_type": "stream",
     "text": [
      "____|   |____\n",
      "|            |\n",
      "|    GUCCI   |\n",
      "|            |\n",
      "\\            /\n",
      " \\__________/\n"
     ]
    }
   ],
   "source": [
    "print_body()"
   ]
  },
  {
   "cell_type": "code",
   "execution_count": 45,
   "metadata": {},
   "outputs": [],
   "source": [
    "def print_rightarm():\n",
    "    print('____|   |________')\n",
    "    print('|            | | |')\n",
    "    print('|    GUCCI   | | |')\n",
    "    print('|            | | |')\n",
    "    print('\\            / | |')\n",
    "    print(' \\__________/  |_|')"
   ]
  },
  {
   "cell_type": "code",
   "execution_count": 46,
   "metadata": {},
   "outputs": [
    {
     "name": "stdout",
     "output_type": "stream",
     "text": [
      "____|   |________\n",
      "|            | | |\n",
      "|    GUCCI   | | |\n",
      "|            | | |\n",
      "\\            / | |\n",
      " \\__________/  |_|\n"
     ]
    }
   ],
   "source": [
    "print_rightarm()"
   ]
  },
  {
   "cell_type": "code",
   "execution_count": 56,
   "metadata": {},
   "outputs": [],
   "source": [
    "def print_leftarm():\n",
    "    print('_______|   |________')\n",
    "    print('| |             | |')\n",
    "    print('| |    GUCCI    | |')\n",
    "    print('| |             | |')\n",
    "    print('| |\\           /| |')\n",
    "    print('|_| \\_________/ |_|')"
   ]
  },
  {
   "cell_type": "code",
   "execution_count": 60,
   "metadata": {},
   "outputs": [],
   "source": [
    "def print_leftleg():\n",
    "    print('_______|   |________')\n",
    "    print('| |             | |')\n",
    "    print('| |    GUCCI    | |')\n",
    "    print('| |             | |')\n",
    "    print('| |\\           /| |')\n",
    "    print('|_| \\_________/ |_|')\n",
    "    print('     |  |')\n",
    "    print('     |  |')\n",
    "    print('     |  |')\n",
    "    print('     |  |')\n",
    "    print('   |____|')"
   ]
  },
  {
   "cell_type": "code",
   "execution_count": 62,
   "metadata": {},
   "outputs": [
    {
     "name": "stdout",
     "output_type": "stream",
     "text": [
      "_______|   |________\n",
      "| |             | |\n",
      "| |    GUCCI    | |\n",
      "| |             | |\n",
      "| |\\           /| |\n",
      "|_| \\_________/ |_|\n",
      "     |  |\n",
      "     |  |\n",
      "     |  |\n",
      "     |  |\n",
      "   |____|\n"
     ]
    }
   ],
   "source": [
    "print_leftleg()"
   ]
  },
  {
   "cell_type": "code",
   "execution_count": 65,
   "metadata": {},
   "outputs": [
    {
     "name": "stdout",
     "output_type": "stream",
     "text": [
      "    |||||||||||\n",
      "    |  o   o  |\n",
      "     |   __  |\n",
      "      \\  __ /\n",
      "_______|   |_______\n",
      "| |             | |\n",
      "| |    GUCCI    | |\n",
      "| |             | |\n",
      "| |\\           /| |\n",
      "|_| \\_________/ |_|\n",
      "     |  |  |  |\n",
      "     |  |  |  |\n",
      "     |  |  |  |\n",
      "     |  |  |  |\n",
      "   |____|  |____|\n"
     ]
    }
   ],
   "source": [
    "def print_rightleg():\n",
    "    print('    |||||||||||')\n",
    "    print('    |  o   o  |')\n",
    "    print('     |   __  |')\n",
    "    print('      \\  __ /')\n",
    "    print('_______|   |_______')\n",
    "    print('| |             | |')\n",
    "    print('| |    GUCCI    | |')\n",
    "    print('| |             | |')\n",
    "    print('| |\\           /| |')\n",
    "    print('|_| \\_________/ |_|')\n",
    "    print('     |  |  |  |')\n",
    "    print('     |  |  |  |')\n",
    "    print('     |  |  |  |')\n",
    "    print('     |  |  |  |')\n",
    "    print('   |____|  |____|')\n",
    "print_rightleg()"
   ]
  },
  {
   "cell_type": "code",
   "execution_count": null,
   "metadata": {},
   "outputs": [],
   "source": []
  },
  {
   "cell_type": "code",
   "execution_count": null,
   "metadata": {},
   "outputs": [],
   "source": []
  }
 ],
 "metadata": {
  "kernelspec": {
   "display_name": "Python 3",
   "language": "python",
   "name": "python3"
  },
  "language_info": {
   "codemirror_mode": {
    "name": "ipython",
    "version": 3
   },
   "file_extension": ".py",
   "mimetype": "text/x-python",
   "name": "python",
   "nbconvert_exporter": "python",
   "pygments_lexer": "ipython3",
   "version": "3.7.3"
  }
 },
 "nbformat": 4,
 "nbformat_minor": 2
}
