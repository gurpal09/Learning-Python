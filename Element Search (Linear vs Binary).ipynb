{
 "cells": [
  {
   "cell_type": "markdown",
   "metadata": {},
   "source": [
    "Write a function that takes an ordered list of numbers (a list where the elements are in order from smallest to largest) and another number. The function decides whether or not the given number is inside the list and returns (then prints) an appropriate boolean.\n",
    "\n",
    "Extras:\n",
    "\n",
    "Use binary search."
   ]
  },
  {
   "cell_type": "markdown",
   "metadata": {},
   "source": [
    "Compare times on the searches"
   ]
  },
  {
   "cell_type": "code",
   "execution_count": 15,
   "metadata": {},
   "outputs": [],
   "source": [
    "a = list(range(0,10000000))\n",
    "num = 9999999\n",
    "\n",
    "\n",
    "# Linear search this will search every element O(N)\n",
    "def linear_search(olist, item):\n",
    "    found = False\n",
    "    count = 0\n",
    "    \n",
    "    for n in olist:\n",
    "        count += 1\n",
    "        if n == item:\n",
    "            print('Found!')\n",
    "            found = True\n",
    "    return(found,count)\n",
    "        \n",
    "# Binary Search (input is a list)\n",
    "def binary_search(olist, item):\n",
    "    first = 0\n",
    "    last = len(olist)-1\n",
    "    count = 0\n",
    "    found = False\n",
    "    \n",
    "    while first <= last and not found:\n",
    "        count += 1\n",
    "        midpoint = (first+last)//2\n",
    "        if olist[midpoint] == item:\n",
    "            found = True\n",
    "        else:\n",
    "            if item < olist[midpoint]:\n",
    "                last = midpoint-1\n",
    "            else:\n",
    "                first = midpoint+1\n",
    "    return(found,count)"
   ]
  },
  {
   "cell_type": "code",
   "execution_count": 16,
   "metadata": {},
   "outputs": [
    {
     "name": "stdout",
     "output_type": "stream",
     "text": [
      "Found!\n",
      "Linear Search Time (seconds):  1.228050708770752\n",
      "10000000\n"
     ]
    }
   ],
   "source": [
    "# Let's time the methods and see the speed up:\n",
    "import time\n",
    "\n",
    "# Timing Linear Search\n",
    "start = time.time()\n",
    "\n",
    "bool1,iterations = linear_search(a,num)\n",
    "\n",
    "end = time.time()\n",
    "print('Linear Search Time (seconds): ',end-start)\n",
    "print(iterations)\n"
   ]
  },
  {
   "cell_type": "code",
   "execution_count": 17,
   "metadata": {},
   "outputs": [
    {
     "name": "stdout",
     "output_type": "stream",
     "text": [
      "Binary Search Time (seconds):  0.0\n",
      "True\n",
      "24\n"
     ]
    }
   ],
   "source": [
    "# Timing Linear Search\n",
    "start = time.time()\n",
    "\n",
    "bool1,iterations = binary_search(a,num)\n",
    "\n",
    "end = time.time()\n",
    "print('Binary Search Time (seconds): ',end-start)\n",
    "print(bool1)\n",
    "print(iterations)"
   ]
  },
  {
   "cell_type": "code",
   "execution_count": null,
   "metadata": {},
   "outputs": [],
   "source": []
  }
 ],
 "metadata": {
  "kernelspec": {
   "display_name": "Python 3",
   "language": "python",
   "name": "python3"
  },
  "language_info": {
   "codemirror_mode": {
    "name": "ipython",
    "version": 3
   },
   "file_extension": ".py",
   "mimetype": "text/x-python",
   "name": "python",
   "nbconvert_exporter": "python",
   "pygments_lexer": "ipython3",
   "version": "3.7.3"
  }
 },
 "nbformat": 4,
 "nbformat_minor": 2
}
