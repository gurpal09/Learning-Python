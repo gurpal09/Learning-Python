{
 "cells": [
  {
   "cell_type": "markdown",
   "metadata": {},
   "source": [
    "In 3 previous exercises, we built up a few components needed to build a Tic Tac Toe game in Python:\n",
    "\n",
    "Draw the Tic Tac Toe game board\n",
    "Checking whether a game board has a winner\n",
    "Handle a player move from user input\n",
    "The next step is to put all these three components together to make a two-player Tic Tac Toe game! Your challenge in this exercise is to use the functions from those previous exercises all together in the same program to make a two-player game that you can play with a friend. There are a lot of choices you will have to make when completing this exercise, so you can go as far or as little as you want with it.\n",
    "\n",
    "Here are a few things to keep in mind:\n",
    "\n",
    "You should keep track of who won - if there is a winner, show a congratulatory message on the screen.\n",
    "If there are no more moves left, don’t ask for the next player’s move!\n",
    "As a bonus, you can ask the players if they want to play again and keep a running tally of who won more - Player 1 or Player 2."
   ]
  },
  {
   "cell_type": "code",
   "execution_count": 2,
   "metadata": {},
   "outputs": [
    {
     "name": "stdout",
     "output_type": "stream",
     "text": [
      "---------------------Rules---------------------\n",
      "1. Player 1 is the first to go and will be marker X\n",
      "2. Please enter position in following format: row,column\n",
      "Positions on game board:\n",
      "\n",
      "\n",
      "[1][1] | [1][2] | [1][3]\n",
      "------------------------\n",
      "[2][1] | [2][2] | [2][3]\n",
      "------------------------\n",
      "[3][1] | [3][2] | [3][3]\n",
      "\n",
      "\n",
      "----------------------Starting Game----------------------\n",
      "turn\n",
      "|   |   |   |\n",
      " --- --- --- \n",
      "|   |   |   |\n",
      " --- --- --- \n",
      "|   |   |   |\n",
      " --- --- --- \n"
     ]
    }
   ],
   "source": [
    "def rules():\n",
    "    print('---------------------Rules---------------------')\n",
    "    print('1. Player 1 is the first to go and will be marker X')\n",
    "    print('2. Please enter position in following format: row,column')\n",
    "    print('Positions on game board:')\n",
    "    print('\\n')\n",
    "    print('[1][1] | [1][2] | [1][3]')\n",
    "    print('------------------------')\n",
    "    print('[2][1] | [2][2] | [2][3]')\n",
    "    print('------------------------')\n",
    "    print('[3][1] | [3][2] | [3][3]')\n",
    "    print('\\n')\n",
    "    print('----------------------Starting Game----------------------')\n",
    "    \n",
    "    \n",
    "def drawboard(turn, game):\n",
    "    size = 3\n",
    "    a = '--- '\n",
    "    b = '   |'\n",
    "    # Base case at the start\n",
    "    if turn == 0:\n",
    "        for x in range(0,size):\n",
    "            #print(x)\n",
    "            print(' ' + a*size)\n",
    "            print('|' + b*size)\n",
    "        print(' ' + a*size)\n",
    "        \n",
    "    # Once game as begun after first turn we need to store and reprint variables every turn\n",
    "    elif turn > 0:\n",
    "        print('turn')\n",
    "        \n",
    "        for x in range(0,3):\n",
    "            row_marks = []\n",
    "            for y in range(0,3):\n",
    "                markers = [' ','X','O']\n",
    "        \n",
    "                if game[x][y] == 0:\n",
    "                    row_marks.append(' ')\n",
    "                elif game[x][y] == 1:\n",
    "                    row_marks.append('X')\n",
    "                else:\n",
    "                    row_marks.append('O')\n",
    "            print('| ' + row_marks[0] + ' | ' + row_marks[1] + ' | ' + row_marks[2] + ' |')\n",
    "            print(' ' + a*3)\n",
    "\n",
    "def new_game():\n",
    "    game = [[0,0,0],[0,0,0],[0,0,0]]\n",
    "    return game\n",
    "\n",
    "def make_move():\n",
    "    # Get user input\n",
    "\n",
    "    # Player turn 1 --> Player 1, 2 --> Player 2 (this variable will need to be changed after everyturn )\n",
    "\n",
    "    player_turn = 1;\n",
    "    usr_input = 'str'\n",
    "    valid = [1,2,3]\n",
    "    while usr_input[1] != ',' or len(usr_input) < 3:\n",
    "    \n",
    "        usr_input = input('Enter a row and column separated by comma ex: row,column: ')\n",
    "    \n",
    "  \n",
    "        row = int(usr_input[0])\n",
    "        col = int(usr_input[2])\n",
    "       \n",
    "        \n",
    "    # Now adjust row and col to match mapped indices\n",
    "    row = row - 1\n",
    "    col = col - 1\n",
    "\n",
    "    # Check if that spot is already taken (assuming default is 0)\n",
    "    if game[row][col] != 0:\n",
    "        if player_turn == 1:\n",
    "            game[row][col] = 'X'\n",
    "        else:\n",
    "            game[row][col] = 'O'\n",
    "    else:\n",
    "        print('That position has already been played. Please select an empty spot...')\n",
    "        # Insert code to re-enter (possible solution is not to change player turn until this is met)   \n",
    "\n",
    "def move(turn, game):\n",
    "    usr_input = 'str'\n",
    "    valid = ['1','2','3']\n",
    "    while usr_input[0] not in valid and len(usr_input) < 3:\n",
    "        usr_input = input('Enter a row and column separated by comma ex: row,column: ')\n",
    "# Main\n",
    "rules()\n",
    "turn = 0\n",
    "game = new_game()\n",
    "drawboard(1,game)\n",
    "\n",
    "# Ask user for input\n"
   ]
  },
  {
   "cell_type": "code",
   "execution_count": 3,
   "metadata": {},
   "outputs": [],
   "source": [
    "move(1,game)"
   ]
  },
  {
   "cell_type": "code",
   "execution_count": 4,
   "metadata": {},
   "outputs": [
    {
     "name": "stdout",
     "output_type": "stream",
     "text": [
      "3\n"
     ]
    }
   ],
   "source": [
    "str3='ddd'\n",
    "print(len(str3))"
   ]
  },
  {
   "cell_type": "code",
   "execution_count": 3,
   "metadata": {},
   "outputs": [
    {
     "name": "stdout",
     "output_type": "stream",
     "text": [
      "turn\n",
      "|   | X | O |\n",
      " --- --- --- \n",
      "| O | O | O |\n",
      " --- --- --- \n",
      "| X | X | X |\n",
      " --- --- --- \n"
     ]
    }
   ],
   "source": [
    "game = [[0,1,2],[2,2,2],[1,1,1]]\n",
    "drawboard(1,game)"
   ]
  },
  {
   "cell_type": "code",
   "execution_count": null,
   "metadata": {},
   "outputs": [],
   "source": []
  }
 ],
 "metadata": {
  "kernelspec": {
   "display_name": "Python 3",
   "language": "python",
   "name": "python3"
  },
  "language_info": {
   "codemirror_mode": {
    "name": "ipython",
    "version": 3
   },
   "file_extension": ".py",
   "mimetype": "text/x-python",
   "name": "python",
   "nbconvert_exporter": "python",
   "pygments_lexer": "ipython3",
   "version": "3.7.3"
  }
 },
 "nbformat": 4,
 "nbformat_minor": 2
}
