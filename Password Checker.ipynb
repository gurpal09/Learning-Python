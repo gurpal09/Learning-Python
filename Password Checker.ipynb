{
 "cells": [
  {
   "cell_type": "markdown",
   "metadata": {},
   "source": [
    "Write a password generator in Python. Be creative with how you generate passwords - strong passwords have a mix of lowercase letters, uppercase letters, numbers, and symbols. The passwords should be random, generating a new password every time the user asks for a new password. Include your run-time code in a main method."
   ]
  },
  {
   "cell_type": "code",
   "execution_count": 6,
   "metadata": {},
   "outputs": [
    {
     "name": "stdout",
     "output_type": "stream",
     "text": [
      "Please enter a password (must contain lowercase, uppercase, special character, number, and more than 10 characters: \n"
     ]
    }
   ],
   "source": [
    "password = input(\"Please enter a password (must contain lowercase, uppercase, special character, number, and more than 10 characters: \")"
   ]
  },
  {
   "cell_type": "code",
   "execution_count": 4,
   "metadata": {},
   "outputs": [
    {
     "name": "stdout",
     "output_type": "stream",
     "text": [
      "Password Criteria Met. You have a strong password\n",
      "Please re-enter password to verify: Rupinderjit20!\n",
      "Password set successfully...\n"
     ]
    }
   ],
   "source": [
    "\n",
    "# List for criteria for password\n",
    "# [special, upper, lowewr, number, 10 characters]\n",
    "crit = [0, 0, 0, 0, 0]\n",
    "\n",
    "# List of special character\n",
    "special_chars = ['!', '@', '$', '%', '^', '&', '*', '?']\n",
    "nums = ['0', '1', '2', '3', '4', '5', '6', '7', '8', '9']\n",
    "count = 0\n",
    "\n",
    "for x in password:\n",
    "    count += 1\n",
    "    if x in special_chars:\n",
    "        #print('Special Pass.')\n",
    "        crit[0] = 1\n",
    "    elif x.isupper():\n",
    "        #print('Upper Pass.')\n",
    "        crit[1] = 1\n",
    "    elif x.islower():\n",
    "        #print('Lower Pass.')\n",
    "        crit[2] = 1\n",
    "    elif x in nums:\n",
    "        #print('Number Pass.')\n",
    "        crit[3] = 1\n",
    "\n",
    "# Character Count Condition\n",
    "if count >= 10:\n",
    "    crit[4] = 1\n",
    "    \n",
    "# Are all criteria met?\n",
    "if sum(crit) > 4: \n",
    "    print('Password Criteria Met. You have a strong password')\n",
    "    verify = ''\n",
    "    while verify != password:\n",
    "        verify = input('Please re-enter password to verify: ')\n",
    "    print('Password set successfully...')\n",
    "else:\n",
    "    print('Password not strong enough!!! Try again!')"
   ]
  },
  {
   "cell_type": "code",
   "execution_count": null,
   "metadata": {},
   "outputs": [],
   "source": []
  }
 ],
 "metadata": {
  "kernelspec": {
   "display_name": "Python 3",
   "language": "python",
   "name": "python3"
  },
  "language_info": {
   "codemirror_mode": {
    "name": "ipython",
    "version": 3
   },
   "file_extension": ".py",
   "mimetype": "text/x-python",
   "name": "python",
   "nbconvert_exporter": "python",
   "pygments_lexer": "ipython3",
   "version": "3.7.3"
  }
 },
 "nbformat": 4,
 "nbformat_minor": 2
}
