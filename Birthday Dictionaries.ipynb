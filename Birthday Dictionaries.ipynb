{
 "cells": [
  {
   "cell_type": "markdown",
   "metadata": {},
   "source": [
    "For this exercise, we will keep track of when our friend’s birthdays are, and be able to find that information based on their name. Create a dictionary (in your file) of names and birthdays. When you run your program it should ask the user to enter a name, and return the birthday of that person back to them. The interaction should look something like this:\n",
    "\n",
    ">>> Welcome to the birthday dictionary. We know the birthdays of:\n",
    "Albert Einstein\n",
    "Benjamin Franklin\n",
    "Ada Lovelace\n",
    ">>> Who's birthday do you want to look up?\n",
    "Benjamin Franklin\n",
    ">>> Benjamin Franklin's birthday is 01/17/1706."
   ]
  },
  {
   "cell_type": "code",
   "execution_count": 1,
   "metadata": {},
   "outputs": [],
   "source": [
    "# Example dictionary\n",
    "price_dictionary = {\n",
    "    'banana': 1.50,\n",
    "    'avocado' : 0.99,\n",
    "    'heirloom tomato' : 0.89,\n",
    "    'cherry tomato pack' : 3.00\n",
    "}"
   ]
  },
  {
   "cell_type": "code",
   "execution_count": 5,
   "metadata": {},
   "outputs": [
    {
     "data": {
      "text/plain": [
       "3.0"
      ]
     },
     "execution_count": 5,
     "metadata": {},
     "output_type": "execute_result"
    }
   ],
   "source": [
    "price_dictionary['cherry tomato pack']"
   ]
  },
  {
   "cell_type": "code",
   "execution_count": 6,
   "metadata": {},
   "outputs": [
    {
     "data": {
      "text/plain": [
       "dict_keys(['banana', 'avocado', 'heirloom tomato', 'cherry tomato pack'])"
      ]
     },
     "execution_count": 6,
     "metadata": {},
     "output_type": "execute_result"
    }
   ],
   "source": [
    "# To get a list of all the keys \n",
    "price_dictionary.keys()"
   ]
  },
  {
   "cell_type": "code",
   "execution_count": 7,
   "metadata": {},
   "outputs": [],
   "source": [
    "# Adding elements to dictionary\n",
    "price_dictionary['granny smith apple'] = 0.49\n",
    "price_dictionary['red delicious apple'] = 0.35"
   ]
  },
  {
   "cell_type": "code",
   "execution_count": 8,
   "metadata": {},
   "outputs": [
    {
     "data": {
      "text/plain": [
       "{'banana': 1.5,\n",
       " 'avocado': 0.99,\n",
       " 'heirloom tomato': 0.89,\n",
       " 'cherry tomato pack': 3.0,\n",
       " 'granny smith apple': 0.49,\n",
       " 'red delicious apple': 0.35}"
      ]
     },
     "execution_count": 8,
     "metadata": {},
     "output_type": "execute_result"
    }
   ],
   "source": [
    "price_dictionary"
   ]
  },
  {
   "cell_type": "markdown",
   "metadata": {},
   "source": [
    "**Dictionary keys must be unique. If you add an element to dictionary with the same key, it will overwrite the value previously at that key.** "
   ]
  },
  {
   "cell_type": "code",
   "execution_count": 9,
   "metadata": {},
   "outputs": [
    {
     "data": {
      "text/plain": [
       "True"
      ]
     },
     "execution_count": 9,
     "metadata": {},
     "output_type": "execute_result"
    }
   ],
   "source": [
    "# To check if a particular key is in our dictionary\n",
    "\n",
    "'banana' in price_dictionary"
   ]
  },
  {
   "cell_type": "code",
   "execution_count": 11,
   "metadata": {},
   "outputs": [
    {
     "name": "stdout",
     "output_type": "stream",
     "text": [
      "My number is 1 and his number is 100\n"
     ]
    }
   ],
   "source": [
    "a = 1\n",
    "b = 100\n",
    "print('My number is {} and his number is {}'.format(a,b))"
   ]
  },
  {
   "cell_type": "code",
   "execution_count": 16,
   "metadata": {},
   "outputs": [
    {
     "name": "stdout",
     "output_type": "stream",
     "text": [
      "Welcome to the birthday dictionary. We know the birthdays of: \n",
      "Gurpal\n",
      "Gurveen\n",
      "Amritpal\n",
      "Manpreet\n",
      "Rachhwinder\n",
      "Who's birthday do you want to look up?\n"
     ]
    }
   ],
   "source": [
    "\n",
    "\n"
   ]
  },
  {
   "cell_type": "code",
   "execution_count": 21,
   "metadata": {},
   "outputs": [
    {
     "name": "stdout",
     "output_type": "stream",
     "text": [
      "Welcome to the birthday dictionary. We know the birthdays of: \n",
      "Gurpal\n",
      "Gurveen\n",
      "Amritpal\n",
      "Manpreet\n",
      "Rachhwinder\n",
      "Who's birthday do you want to look up?f\n",
      "Ooops. No entry by that name!\n",
      "Who's birthday do you want to look up?f\n",
      "Ooops. No entry by that name!\n",
      "Who's birthday do you want to look up?g\n",
      "Ooops. No entry by that name!\n",
      "Who's birthday do you want to look up?h\n",
      "Ooops. No entry by that name!\n",
      "Who's birthday do you want to look up?b\n",
      "Ooops. No entry by that name!\n",
      "Who's birthday do you want to look up?v\n",
      "Ooops. No entry by that name!\n",
      "Who's birthday do you want to look up?Gurpal\n",
      "12/09/1993\n"
     ]
    }
   ],
   "source": [
    "bday_dic = {\n",
    "    'Gurpal' : '12/09/1993',\n",
    "    'Gurveen': '02/08/1995',\n",
    "    'Amritpal':'03/01/1996',\n",
    "    'Manpreet':'07/03/1993',\n",
    "    'Rachhwinder': '11/20/1958'\n",
    "}\n",
    "\n",
    "print('Welcome to the birthday dictionary. We know the birthdays of: ')\n",
    "\n",
    "for key in bday_dic:\n",
    "    print(key)\n",
    "    \n",
    "while True:\n",
    "    usr_input = input('Who\\'s birthday do you want to look up?')\n",
    "    if usr_input not in bday_dic:\n",
    "        print('Ooops. No entry by that name!')\n",
    "    else:\n",
    "        print(bday_dic[usr_input])\n",
    "        break"
   ]
  },
  {
   "cell_type": "code",
   "execution_count": 14,
   "metadata": {},
   "outputs": [
    {
     "data": {
      "text/plain": [
       "{'Gurpal': '12/09/1993',\n",
       " 'Gurveen': '02/08/1995',\n",
       " 'Amritpal': '03/01/1996',\n",
       " 'Manpreet': '07/03/1993',\n",
       " 'Rachhwinder': '11/20/1958'}"
      ]
     },
     "execution_count": 14,
     "metadata": {},
     "output_type": "execute_result"
    }
   ],
   "source": [
    "bday_dic"
   ]
  },
  {
   "cell_type": "code",
   "execution_count": null,
   "metadata": {},
   "outputs": [],
   "source": []
  }
 ],
 "metadata": {
  "kernelspec": {
   "display_name": "Python 3",
   "language": "python",
   "name": "python3"
  },
  "language_info": {
   "codemirror_mode": {
    "name": "ipython",
    "version": 3
   },
   "file_extension": ".py",
   "mimetype": "text/x-python",
   "name": "python",
   "nbconvert_exporter": "python",
   "pygments_lexer": "ipython3",
   "version": "3.7.3"
  }
 },
 "nbformat": 4,
 "nbformat_minor": 2
}
