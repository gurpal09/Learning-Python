{
 "cells": [
  {
   "cell_type": "markdown",
   "metadata": {},
   "source": [
    "This exercise is Part 1 of 3 of the Hangman exercise series. The other exercises are: Part 2 and Part 3.\n",
    "\n",
    "In this exercise, the task is to write a function that picks a random word from a list of words from the SOWPODS dictionary. Download this file and save it in the same directory as your Python code. This file is Peter Norvig’s compilation of the dictionary of words used in professional Scrabble tournaments. Each line in the file contains a single word."
   ]
  },
  {
   "cell_type": "code",
   "execution_count": 30,
   "metadata": {},
   "outputs": [
    {
     "name": "stdout",
     "output_type": "stream",
     "text": [
      "267751\n"
     ]
    }
   ],
   "source": [
    "\n",
    "counter = 0\n",
    "with open('sowpods.txt','r') as f:\n",
    "    line = f.readline()\n",
    "    while line:\n",
    "       # print(line)\n",
    "        line = f.readline()\n",
    "        counter +=1\n",
    "        \n",
    "print(counter)\n",
    "\n",
    "# counter --> how many possible word choices"
   ]
  },
  {
   "cell_type": "code",
   "execution_count": 31,
   "metadata": {},
   "outputs": [
    {
     "name": "stdout",
     "output_type": "stream",
     "text": [
      "BLOODY\n",
      "\n"
     ]
    }
   ],
   "source": [
    "# Function will pick a random word from list of words from SOWPODS dictionary\n",
    "\n",
    "import random\n",
    "r = random.randint(0,counter)\n",
    "\n",
    "counter = 0\n",
    "with open('sowpods.txt','r') as f:\n",
    "    line = f.readline()\n",
    "    while line:\n",
    "        if counter == r:\n",
    "            print(line)\n",
    "        line = f.readline()\n",
    "        counter += 1"
   ]
  },
  {
   "cell_type": "code",
   "execution_count": null,
   "metadata": {},
   "outputs": [],
   "source": []
  },
  {
   "cell_type": "code",
   "execution_count": null,
   "metadata": {},
   "outputs": [],
   "source": []
  }
 ],
 "metadata": {
  "kernelspec": {
   "display_name": "Python 3",
   "language": "python",
   "name": "python3"
  },
  "language_info": {
   "codemirror_mode": {
    "name": "ipython",
    "version": 3
   },
   "file_extension": ".py",
   "mimetype": "text/x-python",
   "name": "python",
   "nbconvert_exporter": "python",
   "pygments_lexer": "ipython3",
   "version": "3.7.3"
  }
 },
 "nbformat": 4,
 "nbformat_minor": 2
}
