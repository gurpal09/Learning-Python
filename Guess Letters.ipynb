{
 "cells": [
  {
   "cell_type": "markdown",
   "metadata": {},
   "source": [
    "Let’s say the word the player has to guess is “EVAPORATE”. For this exercise, write the logic that asks a player to guess a letter and displays letters in the clue word that were guessed correctly. For now, let the player guess an infinite number of times until they get the entire word. As a bonus, keep track of the letters the player guessed and display a different message if the player tries to guess that letter again. Remember to stop the game when all the letters have been guessed correctly! Don’t worry about choosing a word randomly or keeping track of the number of guesses the player has remaining - we will deal with those in a future exercise."
   ]
  },
  {
   "cell_type": "code",
   "execution_count": 1,
   "metadata": {
    "scrolled": true
   },
   "outputs": [
    {
     "name": "stdout",
     "output_type": "stream",
     "text": [
      "********************Welcome to Hangman********************\n",
      "Enter your letter: \n",
      "Enter your letter: w\n",
      "w _ _ _ _ _ _ _ _ _ _ Word:  \n",
      "Enter your letter: o\n",
      "w o _ _ _ _ o _ _ _ _ Word:  \n",
      "Enter your letter: rk\n",
      "Enter your letter: r\n",
      "w o r _ _ _ o _ _ _ _ Word:  \n",
      "Enter your letter: k\n",
      "w o r k _ _ o _ _ _ _ Word:  \n",
      "Enter your letter: a\n",
      "w o r k a _ o _ _ _ _ Word:  \n",
      "Enter your letter: h\n",
      "w o r k a h o _ _ _ _ Word:  \n",
      "Enter your letter: l\n",
      "w o r k a h o l _ _ _ Word:  \n",
      "Enter your letter: is\n",
      "Enter your letter: i\n",
      "w o r k a h o l i _ _ Word:  \n",
      "Enter your letter: s\n",
      "w o r k a h o l i s _ Word:  \n",
      "Enter your letter: m\n",
      "w o r k a h o l i s m Game Over. Winner!!!\n",
      "Game lasted 10 turns\n"
     ]
    }
   ],
   "source": [
    "# Pick the word (this will be chosen randomly later)\n",
    "word = 'workaholism'\n",
    "\n",
    "print('********************Welcome to Hangman********************')\n",
    "\n",
    "\n",
    "# appropriate entries are only letters\n",
    "\n",
    "def get_input():\n",
    "    while True:\n",
    "        letter = input('Enter your letter: ')\n",
    "    \n",
    "        if letter.isalpha() and len(letter) == 1:\n",
    "            break\n",
    "    letter.lower()\n",
    "    return letter\n",
    "    \n",
    "def print_to_screen(letter, word, myset):\n",
    "    for letter in word: \n",
    "        if letter in myset:\n",
    "            print('_ ',end='')\n",
    "        else:\n",
    "            print(letter + ' ',end ='')\n",
    "\n",
    "# Main\n",
    "turn = 0 \n",
    "guessword = ''\n",
    "\n",
    "# Keep track of used letters \n",
    "used = set()\n",
    "\n",
    "winning_letters = set(word)\n",
    "\n",
    "while True:\n",
    "    \n",
    "    guess = get_input()\n",
    "    \n",
    "    # Case where same letter gets guessed twice\n",
    "    while guess in used:\n",
    "        print('This letter has already been guessed. Guess Again!')\n",
    "        guess = get_input()\n",
    "    \n",
    "    # Check if guess is in the word and remove letter from that set\n",
    "    if guess in winning_letters:\n",
    "        winning_letters.remove(guess)\n",
    "    turn +=1\n",
    "    used.add(guess)\n",
    "    \n",
    "    # Print to screen\n",
    "    print_to_screen(guess, word, winning_letters)\n",
    "    \n",
    "    # Break the loop when the winning letter set is empty\n",
    "    if len(winning_letters) == 0:\n",
    "        print('Game Over. Winner!!!')\n",
    "        break\n",
    "    print('Word: ',guessword)\n",
    "print('Game lasted '+ str(turn) + ' turns')\n"
   ]
  },
  {
   "cell_type": "code",
   "execution_count": null,
   "metadata": {},
   "outputs": [],
   "source": [
    "print(a)\n",
    "a = 'AAAA'"
   ]
  },
  {
   "cell_type": "code",
   "execution_count": null,
   "metadata": {},
   "outputs": [],
   "source": [
    "a.lower()"
   ]
  },
  {
   "cell_type": "code",
   "execution_count": 3,
   "metadata": {},
   "outputs": [],
   "source": [
    "word = 'word'\n",
    "a = set(word)"
   ]
  },
  {
   "cell_type": "code",
   "execution_count": 4,
   "metadata": {},
   "outputs": [
    {
     "name": "stdout",
     "output_type": "stream",
     "text": [
      "{'o', 'd', 'w', 'r'}\n"
     ]
    }
   ],
   "source": [
    "print(a)"
   ]
  },
  {
   "cell_type": "code",
   "execution_count": 10,
   "metadata": {},
   "outputs": [
    {
     "ename": "KeyError",
     "evalue": "'word'",
     "output_type": "error",
     "traceback": [
      "\u001b[1;31m---------------------------------------------------------------------------\u001b[0m",
      "\u001b[1;31mKeyError\u001b[0m                                  Traceback (most recent call last)",
      "\u001b[1;32m<ipython-input-10-91af88cfbef7>\u001b[0m in \u001b[0;36m<module>\u001b[1;34m\u001b[0m\n\u001b[1;32m----> 1\u001b[1;33m \u001b[0ma\u001b[0m\u001b[1;33m.\u001b[0m\u001b[0mremove\u001b[0m\u001b[1;33m(\u001b[0m\u001b[1;34m'word'\u001b[0m\u001b[1;33m)\u001b[0m\u001b[1;33m\u001b[0m\u001b[1;33m\u001b[0m\u001b[0m\n\u001b[0m",
      "\u001b[1;31mKeyError\u001b[0m: 'word'"
     ]
    }
   ],
   "source": [
    "a.remove('word')"
   ]
  },
  {
   "cell_type": "code",
   "execution_count": 7,
   "metadata": {},
   "outputs": [
    {
     "name": "stdout",
     "output_type": "stream",
     "text": [
      "{'d', 'w', 'r'}\n"
     ]
    }
   ],
   "source": [
    "print(a)"
   ]
  },
  {
   "cell_type": "code",
   "execution_count": 8,
   "metadata": {},
   "outputs": [
    {
     "data": {
      "text/plain": [
       "3"
      ]
     },
     "execution_count": 8,
     "metadata": {},
     "output_type": "execute_result"
    }
   ],
   "source": [
    "len(a)"
   ]
  },
  {
   "cell_type": "code",
   "execution_count": 20,
   "metadata": {},
   "outputs": [
    {
     "name": "stdout",
     "output_type": "stream",
     "text": [
      "_ _ _ _ \n",
      "{'o', 'd', 'r'}\n"
     ]
    }
   ],
   "source": [
    "a = 'word'\n",
    "\n",
    "print('_ ' * len(a))\n",
    "\n",
    "myset = set(a)\n",
    "\n",
    "g = 'w'\n",
    "\n",
    "myset.remove(g)\n",
    "\n",
    "print(myset)"
   ]
  },
  {
   "cell_type": "code",
   "execution_count": 26,
   "metadata": {},
   "outputs": [
    {
     "name": "stdout",
     "output_type": "stream",
     "text": [
      "w _ _ _ "
     ]
    }
   ],
   "source": [
    "#print _ if not guessed otherwise print letter\n",
    "\n",
    "# Example: 'word'   -> r guessed should output -> _ _ r _\n",
    "\n",
    "\n"
   ]
  },
  {
   "cell_type": "code",
   "execution_count": null,
   "metadata": {},
   "outputs": [],
   "source": []
  },
  {
   "cell_type": "code",
   "execution_count": 22,
   "metadata": {},
   "outputs": [
    {
     "name": "stdout",
     "output_type": "stream",
     "text": [
      "hi\n",
      "ho\n"
     ]
    }
   ],
   "source": [
    "print('hi'),\n",
    "print('ho')"
   ]
  },
  {
   "cell_type": "code",
   "execution_count": null,
   "metadata": {},
   "outputs": [],
   "source": []
  }
 ],
 "metadata": {
  "kernelspec": {
   "display_name": "Python 3",
   "language": "python",
   "name": "python3"
  },
  "language_info": {
   "codemirror_mode": {
    "name": "ipython",
    "version": 3
   },
   "file_extension": ".py",
   "mimetype": "text/x-python",
   "name": "python",
   "nbconvert_exporter": "python",
   "pygments_lexer": "ipython3",
   "version": "3.7.3"
  }
 },
 "nbformat": 4,
 "nbformat_minor": 2
}
