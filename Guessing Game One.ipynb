{
 "cells": [
  {
   "cell_type": "markdown",
   "metadata": {},
   "source": [
    "Generate a random number between 1 and 9 (including 1 and 9). Ask the user to guess the number, then tell them whether they guessed too low, too high, or exactly right. (Hint: remember to use the user input lessons from the very first exercise)"
   ]
  },
  {
   "cell_type": "code",
   "execution_count": 7,
   "metadata": {},
   "outputs": [
    {
     "name": "stdout",
     "output_type": "stream",
     "text": [
      "7\n",
      "Enter your guess (1-10): 4\n",
      "Too low!\n",
      "Enter your guess (1-10): 5\n",
      "Too low!\n",
      "Enter your guess (1-10): 9\n",
      "Too high!\n",
      "Enter your guess (1-10): 7\n",
      "You got it! The answer was: 7\n",
      "It took you 3 tries!!!\n",
      "Enter your guess (1-10): exit\n",
      "Exited game...\n"
     ]
    }
   ],
   "source": [
    "\n",
    "import random\n",
    "number = random.randint(0, 10)\n",
    "print(number)\n",
    "guess = 0;\n",
    "count = 0;\n",
    "\n",
    "while guess != number and guess != 'exit':\n",
    "    guess = input('Enter your guess (1-10): ')\n",
    "    \n",
    "    if guess == 'exit':\n",
    "        print('Exited game...')\n",
    "        break\n",
    "        \n",
    "    if int(guess) > number:\n",
    "        count +=1\n",
    "        print(\"Too high!\")\n",
    "    elif int(guess) < number: \n",
    "        count +=1\n",
    "        print(\"Too low!\")\n",
    "    elif int(guess) == number:\n",
    "        print(\"You got it! The answer was: \" + str(number))\n",
    "        print(\"It took you \" + str(count) + \" tries!!!\")\n",
    "    else: \n",
    "        print(\"Enter a valid guess (Number 0 - 10)\")\n",
    "        "
   ]
  },
  {
   "cell_type": "code",
   "execution_count": null,
   "metadata": {},
   "outputs": [],
   "source": []
  }
 ],
 "metadata": {
  "kernelspec": {
   "display_name": "Python 3",
   "language": "python",
   "name": "python3"
  },
  "language_info": {
   "codemirror_mode": {
    "name": "ipython",
    "version": 3
   },
   "file_extension": ".py",
   "mimetype": "text/x-python",
   "name": "python",
   "nbconvert_exporter": "python",
   "pygments_lexer": "ipython3",
   "version": "3.7.3"
  }
 },
 "nbformat": 4,
 "nbformat_minor": 2
}
