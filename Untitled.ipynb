{
 "cells": [
  {
   "cell_type": "code",
   "execution_count": 2,
   "metadata": {},
   "outputs": [],
   "source": [
    "def prompt_usr():\n",
    "    while True:\n",
    "        usr_input = input('Enter y to play again or n to exit: ')\n",
    "        if usr_input == 'y':\n",
    "            print('Another game!')\n",
    "            break #This should lead to new game\n",
    "        elif usr_input == 'n':\n",
    "            print('Ending...')\n",
    "            break\n",
    "        else:\n",
    "            print('Please enter y or n...')"
   ]
  },
  {
   "cell_type": "code",
   "execution_count": 4,
   "metadata": {},
   "outputs": [
    {
     "name": "stdout",
     "output_type": "stream",
     "text": [
      "Enter y to play again or n to exit: b\n",
      "Please enter y or n...\n",
      "Enter y to play again or n to exit: n\n",
      "Ending...\n"
     ]
    }
   ],
   "source": [
    "prompt_usr()"
   ]
  },
  {
   "cell_type": "code",
   "execution_count": null,
   "metadata": {},
   "outputs": [],
   "source": []
  }
 ],
 "metadata": {
  "kernelspec": {
   "display_name": "Python 3",
   "language": "python",
   "name": "python3"
  },
  "language_info": {
   "codemirror_mode": {
    "name": "ipython",
    "version": 3
   },
   "file_extension": ".py",
   "mimetype": "text/x-python",
   "name": "python",
   "nbconvert_exporter": "python",
   "pygments_lexer": "ipython3",
   "version": "3.7.1"
  }
 },
 "nbformat": 4,
 "nbformat_minor": 2
}
