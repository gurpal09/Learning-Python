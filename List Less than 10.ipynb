{
 "cells": [
  {
   "cell_type": "markdown",
   "metadata": {},
   "source": [
    "Take in an integer list of 10 elements and print out values less than the user indicated value."
   ]
  },
  {
   "cell_type": "code",
   "execution_count": 6,
   "metadata": {},
   "outputs": [
    {
     "name": "stdout",
     "output_type": "stream",
     "text": [
      "Let's make the list!\n",
      "Please enter a number: 1\n",
      "Please enter a number: 2\n",
      "Please enter a number: 3\n",
      "Please enter a number: 4\n",
      "Please enter a number: 5\n",
      "Please enter a number: 6\n",
      "Please enter a number: 7\n",
      "Please enter a number: 8\n",
      "Please enter a number: 9\n",
      "Please enter a number: 11\n"
     ]
    }
   ],
   "source": [
    "# initialize the list and set a counter for 10 elements\n",
    "nums = []\n",
    "count = 0\n",
    "\n",
    "print(\"Let's make the list!\")\n",
    "\n",
    "while True | count < 10:\n",
    "    try:\n",
    "        nums.append(int(input(\"Please enter a number: \")))\n",
    "        count = count + 1\n",
    "    except ValueError:\n",
    "        print(\"Oops! Please enter a valid integer...\")\n",
    "        "
   ]
  },
  {
   "cell_type": "code",
   "execution_count": 7,
   "metadata": {},
   "outputs": [
    {
     "name": "stdout",
     "output_type": "stream",
     "text": [
      "The list we are checking is: [1, 2, 3, 4, 5, 6, 7, 8, 9, 11]\n",
      "Enter a value to set as threshold limit in the list: 7\n",
      "The list of values that meet criteria is: [1, 2, 3, 4, 5, 6]\n"
     ]
    }
   ],
   "source": [
    "# set a value to check for in the list (Check list for < Value )\n",
    "# Create new list with elements < value \n",
    "\n",
    "print(\"The list we are checking is: \" + str(nums))\n",
    "value = int(input(\"Enter a value to set as threshold limit in the list: \"))\n",
    "newlist = []\n",
    "\n",
    "for n in nums:\n",
    "    if n < value:\n",
    "        newlist.append(n)\n",
    "        \n",
    "print(\"The list of values that meet criteria is: \" + str(newlist))"
   ]
  },
  {
   "cell_type": "markdown",
   "metadata": {},
   "source": []
  }
 ],
 "metadata": {
  "kernelspec": {
   "display_name": "Python 3",
   "language": "python",
   "name": "python3"
  },
  "language_info": {
   "codemirror_mode": {
    "name": "ipython",
    "version": 3
   },
   "file_extension": ".py",
   "mimetype": "text/x-python",
   "name": "python",
   "nbconvert_exporter": "python",
   "pygments_lexer": "ipython3",
   "version": "3.7.3"
  }
 },
 "nbformat": 4,
 "nbformat_minor": 2
}
