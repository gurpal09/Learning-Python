{
 "cells": [
  {
   "cell_type": "markdown",
   "metadata": {},
   "source": [
    "In a previous exercise we explored the idea of using a list of lists as a “data structure” to store information about a tic tac toe game. In a tic tac toe game, the “game server” needs to know where the Xs and Os are in the board, to know whether player 1 or player 2 (or whoever is X and O won).\n",
    "\n",
    "There has also been an exercise about drawing the actual tic tac toe gameboard using text characters.\n",
    "\n",
    "The next logical step is to deal with handling user input. When a player (say player 1, who is X) wants to place an X on the screen, they can’t just click on a terminal. So we are going to approximate this clicking simply by asking the user for a coordinate of where they want to place their piece.\n",
    "\n",
    "As a reminder, our tic tac toe game is really a list of lists. The game starts out with an empty game board like this:\n",
    "\n",
    "game = [[0, 0, 0],\n",
    "\t[0, 0, 0],\n",
    "\t[0, 0, 0]]\n",
    "The computer asks Player 1 (X) what their move is (in the format row,col), and say they type 1,3. Then the game would print out\n",
    "\n",
    "game = [[0, 0, X],\n",
    "\t[0, 0, 0],\n",
    "\t[0, 0, 0]]\n",
    "And ask Player 2 for their move, printing an O in that place.\n",
    "\n",
    "Things to note:\n",
    "\n",
    "For this exercise, assume that player 1 (the first player to move) will always be X and player 2 (the second player) will always be O.\n",
    "Notice how in the example I gave coordinates for where I want to move starting from (1, 1) instead of (0, 0). To people who don’t program, starting to count at 0 is a strange concept, so it is better for the user experience if the row counts and column counts start at 1. This is not required, but whichever way you choose to implement this, it should be explained to the player.\n",
    "Ask the user to enter coordinates in the form “row,col” - a number, then a comma, then a number. Then you can use your Python skills to figure out which row and column they want their piece to be in.\n",
    "Don’t worry about checking whether someone won the game, but if a player tries to put a piece in a game position where there already is another piece, do not allow the piece to go there.\n",
    "Bonus:\n",
    "\n",
    "For the “standard” exercise, don’t worry about “ending” the game - no need to keep track of how many squares are full. In a bonus version, keep track of how many squares are full and automatically stop asking for moves when there are no more valid moves."
   ]
  },
  {
   "cell_type": "code",
   "execution_count": 1,
   "metadata": {},
   "outputs": [],
   "source": [
    "# Tell the user how to play\n",
    "print('---------------------Rules---------------------')\n",
    "print('1. Player 1 is the first to go and will be marker X')\n",
    "print('Please enter position in following format: row,column')\n",
    "print('Positions on game board:')\n",
    "print('\\n')\n",
    "print('[1][1] | [1][2] | [1][3]')\n",
    "print('------------------------')\n",
    "print('[2][1] | [2][2] | [2][3]')\n",
    "print('------------------------')\n",
    "print('[3][1] | [3][2] | [3][3]')"
   ]
  },
  {
   "cell_type": "code",
   "execution_count": 2,
   "metadata": {},
   "outputs": [],
   "source": [
    "game = [[1,2,3],[4,5,6],[0,8,9]]"
   ]
  },
  {
   "cell_type": "code",
   "execution_count": 3,
   "metadata": {},
   "outputs": [],
   "source": [
    "print(game)"
   ]
  },
  {
   "cell_type": "code",
   "execution_count": 7,
   "metadata": {},
   "outputs": [
    {
     "name": "stdout",
     "output_type": "stream",
     "text": [
      "Enter a row and column separated by comma ex: row,column: 3,1\n",
      "That position has already been played. Please select an empty spot...\n"
     ]
    }
   ],
   "source": [
    "# Get user input\n",
    "\n",
    "# Player turn 1 --> Player 1, 2 --> Player 2 (this variable will need to be changed after everyturn )\n",
    "\n",
    "player_turn = 1;\n",
    "usr_input = 'str'\n",
    "valid = [1,2,3]\n",
    "while usr_input[1] != ',' or len(usr_input) < 3:\n",
    "    \n",
    "    usr_input = input('Enter a row and column separated by comma ex: row,column: ')\n",
    "    \n",
    "  \n",
    "    row = int(usr_input[0])\n",
    "    col = int(usr_input[2])\n",
    "       \n",
    "        \n",
    "# Now adjust row and col to match mapped indices\n",
    "row = row - 1\n",
    "col = col - 1\n",
    "\n",
    "# Check if that spot is already taken (assuming default is 0)\n",
    "if game[row][col] != 0:\n",
    "    if player_turn == 1:\n",
    "        game[row][col] = 'X'\n",
    "    else:\n",
    "        game[row][col] = 'O'\n",
    "else:\n",
    "    print('That position has already been played. Please select an empty spot...')\n",
    "    # Insert code to re-enter (possible solution is not to change player turn until this is met)"
   ]
  },
  {
   "cell_type": "code",
   "execution_count": null,
   "metadata": {},
   "outputs": [],
   "source": [
    "print(game)"
   ]
  },
  {
   "cell_type": "code",
   "execution_count": null,
   "metadata": {},
   "outputs": [],
   "source": []
  }
 ],
 "metadata": {
  "kernelspec": {
   "display_name": "Python 3",
   "language": "python",
   "name": "python3"
  },
  "language_info": {
   "codemirror_mode": {
    "name": "ipython",
    "version": 3
   },
   "file_extension": ".py",
   "mimetype": "text/x-python",
   "name": "python",
   "nbconvert_exporter": "python",
   "pygments_lexer": "ipython3",
   "version": "3.7.3"
  }
 },
 "nbformat": 4,
 "nbformat_minor": 2
}
