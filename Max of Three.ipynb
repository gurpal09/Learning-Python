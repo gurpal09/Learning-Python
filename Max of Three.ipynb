{
 "cells": [
  {
   "cell_type": "markdown",
   "metadata": {},
   "source": [
    "Implement a function that takes as input three variables, and returns the largest of the three. Do this without using the Python max() function!\n",
    "\n",
    "The goal of this exercise is to think about some internals that Python normally takes care of for us. All you need is some variables and if statements!"
   ]
  },
  {
   "cell_type": "code",
   "execution_count": 11,
   "metadata": {},
   "outputs": [],
   "source": [
    "a = -122\n",
    "b = -4\n",
    "c = 0\n",
    "\n",
    "\n",
    "def max_of_3(a, b, c):\n",
    "    maxnum = 0;\n",
    "    \n",
    "    # Compare a and b\n",
    "    if b > a:\n",
    "        maxnum = b\n",
    "    else:\n",
    "        maxnum = a\n",
    "        \n",
    "    # Combare b and c\n",
    "    if b > c:\n",
    "        maxnum = b\n",
    "    else:\n",
    "        maxnum = c \n",
    "        \n",
    "    return maxnum"
   ]
  },
  {
   "cell_type": "code",
   "execution_count": 12,
   "metadata": {},
   "outputs": [
    {
     "name": "stdout",
     "output_type": "stream",
     "text": [
      "0\n"
     ]
    }
   ],
   "source": [
    "x = max_of_3(a,b,c)\n",
    "print(x)"
   ]
  }
 ],
 "metadata": {
  "kernelspec": {
   "display_name": "Python 3",
   "language": "python",
   "name": "python3"
  },
  "language_info": {
   "codemirror_mode": {
    "name": "ipython",
    "version": 3
   },
   "file_extension": ".py",
   "mimetype": "text/x-python",
   "name": "python",
   "nbconvert_exporter": "python",
   "pygments_lexer": "ipython3",
   "version": "3.7.3"
  }
 },
 "nbformat": 4,
 "nbformat_minor": 2
}
