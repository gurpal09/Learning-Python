{
 "cells": [
  {
   "cell_type": "markdown",
   "metadata": {},
   "source": [
    "Use the BeautifulSoup and requests Python packages to print out all of the article titles on the New York Times homepage"
   ]
  },
  {
   "cell_type": "code",
   "execution_count": 5,
   "metadata": {},
   "outputs": [],
   "source": [
    "import requests\n",
    "\n",
    "# Make the requests to the New York Times homepage\n",
    "url = 'https://www.nytimes.com/'\n",
    "r = requests.get(url)\n",
    "r_html = r.text"
   ]
  },
  {
   "cell_type": "code",
   "execution_count": 10,
   "metadata": {},
   "outputs": [
    {
     "name": "stdout",
     "output_type": "stream",
     "text": [
      "Our reporters fact-checked the candidates’ claims.\n",
      "How Much Speaking Time Each Candidate Had\n",
      "Warren Comes Under Fire for Health Care Proposal\n",
      "<span>Ilhan Omar endorsed Bernie Sanders, and his campaign said Alexandria Ocasio-Cortez planned to as well.</span>\n",
      "White House Is Said to Open Internal Review of Ukraine Call\n",
      "Rudy Giuliani repeatedly urged President Trump to arrange for the deportation of a cleric sought by Turkey.\n",
      "Russian Troops Move In as U.S. Troops Exit Syrian Region\n",
      "Pence and Pompeo to Push Turkey for Pullback From Syria\n",
      "LeBron James Faces Backlash Unseen Since ‘The Decision’\n",
      "Harold Bloom, a Prolific Giant and Perhaps the Last of a Kind\n",
      "A European Grill Where Sparks Fly\n"
     ]
    }
   ],
   "source": [
    "from bs4 import BeautifulSoup\n",
    "\n",
    "soup = BeautifulSoup(r_html)\n",
    "\n",
    "for heading in soup.find_all(class_='css-n2blzn esl82me0'):\n",
    "    if heading.a:\n",
    "        print(heading.a.text)\n",
    "    else:\n",
    "        print(heading.contents[0])"
   ]
  },
  {
   "cell_type": "code",
   "execution_count": null,
   "metadata": {},
   "outputs": [],
   "source": []
  }
 ],
 "metadata": {
  "kernelspec": {
   "display_name": "Python 3",
   "language": "python",
   "name": "python3"
  },
  "language_info": {
   "codemirror_mode": {
    "name": "ipython",
    "version": 3
   },
   "file_extension": ".py",
   "mimetype": "text/x-python",
   "name": "python",
   "nbconvert_exporter": "python",
   "pygments_lexer": "ipython3",
   "version": "3.7.3"
  }
 },
 "nbformat": 4,
 "nbformat_minor": 2
}
