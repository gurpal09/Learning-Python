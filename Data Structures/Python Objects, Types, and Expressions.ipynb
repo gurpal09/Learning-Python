{
 "cells": [
  {
   "cell_type": "markdown",
   "metadata": {},
   "source": [
    "# Chapter 1: Python Objects, Types, and Expressions"
   ]
  },
  {
   "cell_type": "markdown",
   "metadata": {},
   "source": [
    "## Variables and Expressions"
   ]
  },
  {
   "cell_type": "markdown",
   "metadata": {},
   "source": [
    "Variables act as pointer or a reference to the object. Here variable 'a' is a pointer to a list object. Another variable 'b' that points to this same list object. Any change made to 'a' will be reflected in b "
   ]
  },
  {
   "cell_type": "code",
   "execution_count": 1,
   "metadata": {},
   "outputs": [
    {
     "name": "stdout",
     "output_type": "stream",
     "text": [
      "Variable a: [2, 4, 6, 8]\n",
      "Variable b: [2, 4, 6, 8]\n",
      "Variable a: [2, 4, 6, 8, 24]\n",
      "Variable b: [2, 4, 6, 8, 24]\n"
     ]
    }
   ],
   "source": [
    "a = [2, 4, 6]\n",
    "b = a\n",
    "a.append(8)\n",
    "\n",
    "print(\"Variable a: \" + str(a))\n",
    "print(\"Variable b: \" + str(b))\n",
    "\n",
    "b.append(24)\n",
    "\n",
    "print(\"Variable a: \" + str(a))\n",
    "print(\"Variable b: \" + str(b))"
   ]
  },
  {
   "cell_type": "markdown",
   "metadata": {},
   "source": [
    "Variables point to an object that can chage their type depending on the kind of values assigned to them. Consider the following example where the type of 'a' is changed from int to float:"
   ]
  },
  {
   "cell_type": "code",
   "execution_count": 5,
   "metadata": {},
   "outputs": [
    {
     "data": {
      "text/plain": [
       "int"
      ]
     },
     "execution_count": 5,
     "metadata": {},
     "output_type": "execute_result"
    }
   ],
   "source": [
    "a = 1\n",
    "type(a)"
   ]
  },
  {
   "cell_type": "code",
   "execution_count": 6,
   "metadata": {},
   "outputs": [
    {
     "data": {
      "text/plain": [
       "float"
      ]
     },
     "execution_count": 6,
     "metadata": {},
     "output_type": "execute_result"
    }
   ],
   "source": [
    "a = a + 0.1\n",
    "type(a)"
   ]
  },
  {
   "cell_type": "markdown",
   "metadata": {},
   "source": [
    "## Variable Scope"
   ]
  },
  {
   "cell_type": "markdown",
   "metadata": {},
   "source": [
    "Whenever a function is called, Python Interpreter first looks into the local namespace that is the funciton itself - if no match is found, then it looks at the global namespace. If no match is found, then it searches built-in namespace. If it is not found, then the interpreter would raise 'NameError' exception. Example:"
   ]
  },
  {
   "cell_type": "code",
   "execution_count": 7,
   "metadata": {},
   "outputs": [
    {
     "name": "stdout",
     "output_type": "stream",
     "text": [
      "11\n",
      "25\n"
     ]
    }
   ],
   "source": [
    "a = 15; b = 25\n",
    "def my_function():\n",
    "    global a\n",
    "    a = 11; b = 21\n",
    "    \n",
    "my_function()\n",
    "print(a)\n",
    "print(b)"
   ]
  },
  {
   "cell_type": "markdown",
   "metadata": {},
   "source": [
    "## Flow Control and Iteration"
   ]
  },
  {
   "cell_type": "markdown",
   "metadata": {},
   "source": [
    "The 'if', 'else', and 'elif' statements control the conditional execution of statements. Example:"
   ]
  },
  {
   "cell_type": "code",
   "execution_count": 10,
   "metadata": {},
   "outputs": [
    {
     "name": "stdout",
     "output_type": "stream",
     "text": [
      "Something Else\n"
     ]
    }
   ],
   "source": [
    "x = 'one'\n",
    "\n",
    "if x==0:\n",
    "    print('False')\n",
    "elif x==1:\n",
    "    print('True')\n",
    "else:\n",
    "    print('Something Else')"
   ]
  },
  {
   "cell_type": "markdown",
   "metadata": {},
   "source": [
    "Program control can also be acheived using loops sucha as the 'while' and 'for' loop statement.\n",
    "* A while  loop repeats until a Boolean condition is true\n",
    "* A for loop allows execution for a predetermined amount of times\n"
   ]
  },
  {
   "cell_type": "code",
   "execution_count": 11,
   "metadata": {},
   "outputs": [
    {
     "name": "stdout",
     "output_type": "stream",
     "text": [
      "0\n",
      "1\n",
      "2\n"
     ]
    }
   ],
   "source": [
    "x = 0;\n",
    "while x < 3: \n",
    "    print(x)\n",
    "    x += 1"
   ]
  },
  {
   "cell_type": "code",
   "execution_count": 12,
   "metadata": {},
   "outputs": [
    {
     "name": "stdout",
     "output_type": "stream",
     "text": [
      "cat\n",
      "dog\n",
      "elephant\n"
     ]
    }
   ],
   "source": [
    "words = ['cat', 'dog', 'elephant']\n",
    "for w in words:\n",
    "    print(w)"
   ]
  },
  {
   "cell_type": "markdown",
   "metadata": {},
   "source": [
    "## Overview of data  types and objects"
   ]
  },
  {
   "cell_type": "markdown",
   "metadata": {},
   "source": [
    "* Python contains built-in data types, includes Four numeric types:\n",
    "    1. int\n",
    "    2. float\n",
    "    3. complex\n",
    "    4. bool\n",
    "* 4 Sequence Types:\n",
    "    1. str\n",
    "    2. list\n",
    "    3. tuple\n",
    "    4. range\n",
    "*  1 Mapping type\n",
    "    1. dict\n",
    "* **It is also possible to create user-defined objects (functions & classes)**\\\n",
    "\\\n",
    "Each object has a type, value and an identity. Once an instance of an object is crated, its identiy and type cannot be changed.\n",
    "\\* Use id() to get the identity of an object (refers to memory location)"
   ]
  },
  {
   "cell_type": "markdown",
   "metadata": {},
   "source": [
    "Comparing objects:"
   ]
  },
  {
   "cell_type": "code",
   "execution_count": 13,
   "metadata": {},
   "outputs": [
    {
     "ename": "IndentationError",
     "evalue": "expected an indented block (<ipython-input-13-34cd72fd249c>, line 3)",
     "output_type": "error",
     "traceback": [
      "\u001b[1;36m  File \u001b[1;32m\"<ipython-input-13-34cd72fd249c>\"\u001b[1;36m, line \u001b[1;32m3\u001b[0m\n\u001b[1;33m    if a is b:               # if a and b are the same object\u001b[0m\n\u001b[1;37m     ^\u001b[0m\n\u001b[1;31mIndentationError\u001b[0m\u001b[1;31m:\u001b[0m expected an indented block\n"
     ]
    }
   ],
   "source": [
    "if a==b:                 # a and b have the same value\n",
    "    \n",
    "if a is b:               # if a and b are the same object\n",
    "    \n",
    "if type(a) is type(b)    # a and b are the same type\n"
   ]
  },
  {
   "cell_type": "markdown",
   "metadata": {},
   "source": [
    "## Strings"
   ]
  },
  {
   "cell_type": "markdown",
   "metadata": {},
   "source": [
    "Strings are immuatable sequence objects. Each method returns a value."
   ]
  },
  {
   "cell_type": "markdown",
   "metadata": {},
   "source": [
    "| Method  | Description |\n",
    "| ------------- | ------------- |\n",
    "| s.capitalize                           | Returns a string with only the first character capitalized, the rest remaining lowercase.  |\n",
    "| s.count(substring, [start, end])       | Counts occurances of a substring.  |\n",
    "| s.expandtabs ([tabsize])               | Replaces tabs with spaces. |\n",
    "| s.endswith(substring, [start,end])     | Returns True if a string ends with a specified substring. |\n",
    "| s.find(substring, [start,end])         | Returns index of first presence of substring. |\n",
    "| s.isalnum()                            | Returns True if all chars are alphanumeric of string s. |\n",
    "| s.isalpha()                            | Returns True if all chars are alphabetic of string s. |\n",
    "| s.isdigit()                            | Returns True if all chars are digits in the string. |\n",
    "| s.split([separator],[maxsplit])        | Splits a string separated by whitespace or an optional separator. Returns a list. |\n",
    "| s.join(t)                              | Joins the strings in sequence t. |\n",
    "| s.lower()                              | Converts the string to all lowercase. |\n",
    "| s.replace(old, new[maxreplace])        | Replaces old substring with new substring. | \n",
    "| s.startswith(substring. [start, end]]) | Returns True if the string starts with a specified substring. |\n",
    "| s.swapcase()                           | Returns a copy of the string with swapped case in the string. |\n",
    "| s.strip([characters])                  | Removes whitespace or optional characters. |\n",
    "| s.lstrip([characters])                 | Returns a copy of the string with leading characters removed. |"
   ]
  },
  {
   "cell_type": "code",
   "execution_count": 19,
   "metadata": {},
   "outputs": [
    {
     "name": "stdout",
     "output_type": "stream",
     "text": [
      "e\n",
      "hello wo\n",
      "hlow\n",
      "hlowrd\n"
     ]
    }
   ],
   "source": [
    "greet = 'hello world'\n",
    "\n",
    "print(greet[1])\n",
    "\n",
    "print(greet[0:8])\n",
    "\n",
    "print(greet[0:8:2])\n",
    "\n",
    "print(greet[0::2])"
   ]
  },
  {
   "cell_type": "markdown",
   "metadata": {},
   "source": [
    "Another common operation is traversing through a string with a loop:"
   ]
  },
  {
   "cell_type": "code",
   "execution_count": 20,
   "metadata": {},
   "outputs": [
    {
     "name": "stdout",
     "output_type": "stream",
     "text": [
      "(0, 'h')\n",
      "(1, 'e')\n",
      "(2, 'l')\n",
      "(3, 'l')\n",
      "(4, 'o')\n"
     ]
    }
   ],
   "source": [
    "for i in enumerate(greet[0:5]): \n",
    "    print(i)"
   ]
  },
  {
   "cell_type": "code",
   "execution_count": 21,
   "metadata": {},
   "outputs": [
    {
     "data": {
      "text/plain": [
       "'hello wonderful world'"
      ]
     },
     "execution_count": 21,
     "metadata": {},
     "output_type": "execute_result"
    }
   ],
   "source": [
    "greet[:5] + ' wonderful' + greet[5:]"
   ]
  },
  {
   "cell_type": "markdown",
   "metadata": {},
   "source": [
    "Performing mathematical operations on a string:"
   ]
  },
  {
   "cell_type": "code",
   "execution_count": 22,
   "metadata": {},
   "outputs": [
    {
     "name": "stdout",
     "output_type": "stream",
     "text": [
      "32\n",
      "5\n"
     ]
    }
   ],
   "source": [
    "x = '3'; y = '2'\n",
    "\n",
    "z = x + y\n",
    "print(z)\n",
    "\n",
    "a = int(x) + int(y)\n",
    "print(a)"
   ]
  },
  {
   "cell_type": "markdown",
   "metadata": {},
   "source": [
    "## Lists"
   ]
  },
  {
   "cell_type": "markdown",
   "metadata": {},
   "source": [
    "Commonly used built-in data structures, simple representations of objects and are indexed by integers starting from zero."
   ]
  },
  {
   "cell_type": "markdown",
   "metadata": {},
   "source": [
    "| Method  | Description |\n",
    "| ------------- | ------------- |\n",
    "| list(s)                          | Returns a list of sequence s.  |\n",
    "| s.append(x)                      | Appends element x at the end of list s. |\n",
    "| s.extend(x)                      | Appends list x at the end of list s. |\n",
    "| s.count(x)                       | Returns the count of the occurrence of x in list s. |\n",
    "| s.index(x,[start],[stop]) | Returns the smallest index i, where s[i] == x.We can include an optional start and stop index for the lookup.                        |\n",
    "| s.insert(i,e)                    | Inserts x at index i. |\n",
    "| s.pop(i)                         | Returns the element i and removes it from the list s. |\n",
    "| s.remove(x)                      | Removes element x from the list s. |\n",
    "| s.reverse()                      | Reverses the order of list s. |\n",
    "| s.sort(key, [reverse])           | Sorts list s with optional key and reverses it. |"
   ]
  },
  {
   "cell_type": "markdown",
   "metadata": {},
   "source": [
    "When we assign a value of one variable in another variable, both variables point to the same memory address where the value is stored. "
   ]
  },
  {
   "cell_type": "code",
   "execution_count": 23,
   "metadata": {},
   "outputs": [
    {
     "data": {
      "text/plain": [
       "[1, 4, 3]"
      ]
     },
     "execution_count": 23,
     "metadata": {},
     "output_type": "execute_result"
    }
   ],
   "source": [
    "x=1;y=2;z=3\n",
    "\n",
    "list1 = [x,y,z]\n",
    "\n",
    "list2 = list1\n",
    "\n",
    "list2[1] = 4\n",
    "\n",
    "list1"
   ]
  },
  {
   "cell_type": "markdown",
   "metadata": {},
   "source": [
    "An important feature of list is that it can contain nested structures. List can contain other lists.\n"
   ]
  },
  {
   "cell_type": "code",
   "execution_count": 25,
   "metadata": {},
   "outputs": [
    {
     "name": "stdout",
     "output_type": "stream",
     "text": [
      "Product: rice Price: 2.40 Quality: 8\n",
      "Product: flour Price: 1.90 Quality: 5\n",
      "Product: Corn Price: 4.70 Quality: 6\n"
     ]
    }
   ],
   "source": [
    "items = [[\"rice\", 2.4, 8],[\"flour\", 1.9, 5],[\"Corn\", 4.7, 6]]\n",
    "\n",
    "for item in items: \n",
    "    print(\"Product: %s Price: %.2f Quality: %i\" % (item[0], item[1], item[2]))"
   ]
  },
  {
   "cell_type": "code",
   "execution_count": 28,
   "metadata": {},
   "outputs": [
    {
     "data": {
      "text/plain": [
       "1.9"
      ]
     },
     "execution_count": 28,
     "metadata": {},
     "output_type": "execute_result"
    }
   ],
   "source": [
    "items[1][1]\n",
    "\n",
    "# items[1][2]"
   ]
  },
  {
   "cell_type": "markdown",
   "metadata": {},
   "source": [
    "We can create a list from expressions using list comprehensions. It allows us to create a list through an expression directly into the list. Example:"
   ]
  },
  {
   "cell_type": "code",
   "execution_count": 29,
   "metadata": {},
   "outputs": [
    {
     "name": "stdout",
     "output_type": "stream",
     "text": [
      "[2, 4, 6, 8]\n",
      "[8, 64, 216, 512]\n"
     ]
    }
   ],
   "source": [
    "l = [2,4,6,8]\n",
    "print(l)\n",
    "\n",
    "m = [i**3 for i in l]\n",
    "print(m)\n"
   ]
  },
  {
   "cell_type": "markdown",
   "metadata": {},
   "source": [
    "List comprehensions can be used to replicate the action of nested loops in a more compact form."
   ]
  },
  {
   "cell_type": "code",
   "execution_count": 31,
   "metadata": {},
   "outputs": [
    {
     "name": "stdout",
     "output_type": "stream",
     "text": [
      "[4, 5, 6, 8, 10, 12, 12, 15, 18]\n"
     ]
    }
   ],
   "source": [
    "list1 = [[1,2,3],[4,5,6]]\n",
    "\n",
    "listout = [i * j for i in list1[0] for j in list1[1]]\n",
    "print(listout)"
   ]
  },
  {
   "cell_type": "markdown",
   "metadata": {},
   "source": [
    "Can also use list comprehensions with other objects such as strings:"
   ]
  },
  {
   "cell_type": "code",
   "execution_count": 33,
   "metadata": {},
   "outputs": [
    {
     "name": "stdout",
     "output_type": "stream",
     "text": [
      "[['here', 4], ['is', 2], ['a', 1], ['sentance', 8]]\n"
     ]
    }
   ],
   "source": [
    "words = 'here is a sentance'.split()\n",
    "\n",
    "a = [[word, len(word)] for word in words]\n",
    "print(a)"
   ]
  },
  {
   "cell_type": "markdown",
   "metadata": {},
   "source": [
    "## Functions as first class objects"
   ]
  },
  {
   "cell_type": "code",
   "execution_count": null,
   "metadata": {},
   "outputs": [],
   "source": []
  }
 ],
 "metadata": {
  "kernelspec": {
   "display_name": "Python 3",
   "language": "python",
   "name": "python3"
  },
  "language_info": {
   "codemirror_mode": {
    "name": "ipython",
    "version": 3
   },
   "file_extension": ".py",
   "mimetype": "text/x-python",
   "name": "python",
   "nbconvert_exporter": "python",
   "pygments_lexer": "ipython3",
   "version": "3.7.3"
  }
 },
 "nbformat": 4,
 "nbformat_minor": 2
}
