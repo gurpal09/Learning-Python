{
 "cells": [
  {
   "cell_type": "markdown",
   "metadata": {},
   "source": [
    "Media player queue will allow for the addition of tracks and a way to play all of the tracks in the queue."
   ]
  },
  {
   "cell_type": "code",
   "execution_count": 3,
   "metadata": {},
   "outputs": [],
   "source": [
    "class Node(object):\n",
    "    \"\"\" A Doubly-linked lists' node. \"\"\"\n",
    "    def __init__(self, data=None, next=None, prev=None):\n",
    "        self.data = data\n",
    "        self.next = next\n",
    "        self.prev = prev\n",
    "\n",
    "\n",
    "class Queue(object):\n",
    "    \"\"\" A doubly-linked list. \"\"\"\n",
    "    def __init__(self):\n",
    "        self.head = None\n",
    "        self.tail = None\n",
    "        self.count = 0\n",
    "\n",
    "    def enqueue(self, data):\n",
    "        \"\"\" Append an item to the list. \"\"\"\n",
    "\n",
    "        new_node = Node(data, None, None)\n",
    "        if self.head is None:\n",
    "            self.head = new_node\n",
    "            self.tail = self.head\n",
    "        else:\n",
    "            new_node.prev = self.tail\n",
    "            self.tail.next = new_node\n",
    "            self.tail = new_node\n",
    "\n",
    "        self.count += 1\n",
    "\n",
    "    def dequeue(self):\n",
    "        \"\"\" Remove elements from the front of the list\"\"\"\n",
    "        current = self.head\n",
    "        if self.count == 1:\n",
    "            self.count -= 1\n",
    "            self.head = None\n",
    "            self.tail = None\n",
    "        elif self.count > 1:\n",
    "            self.head = self.head.next\n",
    "            self.head.prev = None\n",
    "            self.count -= 1\n",
    "        return current"
   ]
  },
  {
   "cell_type": "markdown",
   "metadata": {},
   "source": [
    "The track class will simulate a musical track:"
   ]
  },
  {
   "cell_type": "code",
   "execution_count": 4,
   "metadata": {},
   "outputs": [],
   "source": [
    "from random import randint\n",
    "class Track:\n",
    "    def __init__(self, title=None):\n",
    "        self.title = title\n",
    "        self.length = randint(5,10)"
   ]
  },
  {
   "cell_type": "markdown",
   "metadata": {},
   "source": [
    "Creating tracks and printing out their lengths:"
   ]
  },
  {
   "cell_type": "code",
   "execution_count": 5,
   "metadata": {},
   "outputs": [
    {
     "name": "stdout",
     "output_type": "stream",
     "text": [
      "5\n",
      "5\n"
     ]
    }
   ],
   "source": [
    "track1 = Track(\"white whistle\")\n",
    "track2 = Track(\"butter butter\")\n",
    "print(track1.length)\n",
    "print(track2.length)"
   ]
  },
  {
   "cell_type": "markdown",
   "metadata": {},
   "source": [
    "Using inheritance we inherit from queue class:"
   ]
  },
  {
   "cell_type": "code",
   "execution_count": 21,
   "metadata": {},
   "outputs": [],
   "source": [
    "import time\n",
    "class MediaPlayerQueue(Queue):\n",
    "    def __init__(self):\n",
    "        super(MediaPlayerQueue, self).__init__()\n",
    "    def add_track(self, track):\n",
    "        self.enqueue(track)\n",
    "    def play(self):\n",
    "        while self.count > 0:\n",
    "            current_track_node = self.dequeue()\n",
    "            print(\"Now playing {}\".format(current_track_node.data.title))\n",
    "            time.sleep(current_track_node.data.length)"
   ]
  },
  {
   "cell_type": "markdown",
   "metadata": {},
   "source": [
    "This class is a queue that holds a number of track objects in a queue"
   ]
  },
  {
   "cell_type": "markdown",
   "metadata": {},
   "source": [
    "To add tracks to the queue, an add_track method is created: "
   ]
  },
  {
   "cell_type": "code",
   "execution_count": 13,
   "metadata": {},
   "outputs": [],
   "source": [
    "    def add_track(self, track):\n",
    "        self.enqueue(track)"
   ]
  },
  {
   "cell_type": "markdown",
   "metadata": {},
   "source": [
    "The method passes a track object to the enqueue method of the queue super class. This will create a Node using track object."
   ]
  },
  {
   "cell_type": "markdown",
   "metadata": {},
   "source": [
    "Assuming the tracks in the queue are played sequentially from first track:"
   ]
  },
  {
   "cell_type": "code",
   "execution_count": 17,
   "metadata": {},
   "outputs": [],
   "source": [
    "    def play(self):\n",
    "        while self.count > 0:\n",
    "            current_track_node = self.dequeue()\n",
    "            print(\"Now playing {}\".format(current_track_node.data.title))\n",
    "            time.sleep(current_track_node.data.length)"
   ]
  },
  {
   "cell_type": "markdown",
   "metadata": {},
   "source": [
    "Taking it for a spin"
   ]
  },
  {
   "cell_type": "code",
   "execution_count": 22,
   "metadata": {},
   "outputs": [
    {
     "name": "stdout",
     "output_type": "stream",
     "text": [
      "Now playing white whistle\n",
      "Now playing butter butter\n",
      "Now playing Oh black star\n",
      "Now playing Watch that chicken\n",
      "Now playing Don't go\n"
     ]
    }
   ],
   "source": [
    "track1 = Track(\"white whistle\")\n",
    "track2 = Track(\"butter butter\")\n",
    "track3 = Track(\"Oh black star\")\n",
    "track4 = Track(\"Watch that chicken\")\n",
    "track5 = Track(\"Don't go\")\n",
    "media_player = MediaPlayerQueue()\n",
    "media_player.add_track(track1)\n",
    "media_player.add_track(track2)\n",
    "media_player.add_track(track3)\n",
    "media_player.add_track(track4)\n",
    "media_player.add_track(track5)\n",
    "media_player.play()"
   ]
  },
  {
   "cell_type": "code",
   "execution_count": null,
   "metadata": {},
   "outputs": [],
   "source": [
    "\n"
   ]
  }
 ],
 "metadata": {
  "kernelspec": {
   "display_name": "Python 3",
   "language": "python",
   "name": "python3"
  },
  "language_info": {
   "codemirror_mode": {
    "name": "ipython",
    "version": 3
   },
   "file_extension": ".py",
   "mimetype": "text/x-python",
   "name": "python",
   "nbconvert_exporter": "python",
   "pygments_lexer": "ipython3",
   "version": "3.7.3"
  }
 },
 "nbformat": 4,
 "nbformat_minor": 2
}
