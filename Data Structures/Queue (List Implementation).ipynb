{
 "cells": [
  {
   "cell_type": "markdown",
   "metadata": {},
   "source": [
    "# List Queue Implementation"
   ]
  },
  {
   "cell_type": "markdown",
   "metadata": {},
   "source": [
    "## Notes:\n",
    "* Python list class has a method called pop(). The pop method does the following: \n",
    "   1. Deletes the last item from the list\n",
    "   2. Returns the deleted item from the list back to the user or code that called it\n",
    "* **The enqueue operation using list is very inefficient due to the fact that the method has to shift all elements by one space when an insertion is done.**"
   ]
  },
  {
   "cell_type": "code",
   "execution_count": 7,
   "metadata": {},
   "outputs": [],
   "source": [
    "class ListQueue:\n",
    "    def __init__(self):\n",
    "        self.items = [] # Using python's built in list implementation\n",
    "        self.size = 0\n",
    "    def empty(self):\n",
    "        return self.items == []\n",
    "    def enqueue(self, data):\n",
    "        self.items.insert(0, data)\n",
    "        self.size += 1\n",
    "    def dequeue(self):\n",
    "        data = self.items.pop()\n",
    "        self.size -= 1\n",
    "        return data\n",
    "    def size1(self):\n",
    "        # print(self.size)\n",
    "        return self.size"
   ]
  },
  {
   "cell_type": "code",
   "execution_count": 8,
   "metadata": {},
   "outputs": [
    {
     "name": "stdout",
     "output_type": "stream",
     "text": [
      "3\n",
      "['True', 'dog', 4]\n"
     ]
    }
   ],
   "source": [
    "q = ListQueue()\n",
    "q.enqueue(4)\n",
    "q.enqueue('dog')\n",
    "q.enqueue('True')\n",
    "\n",
    "a = q.size1()\n",
    "print(a)\n",
    "print(q.items)"
   ]
  },
  {
   "cell_type": "code",
   "execution_count": null,
   "metadata": {},
   "outputs": [],
   "source": []
  }
 ],
 "metadata": {
  "kernelspec": {
   "display_name": "Python 3",
   "language": "python",
   "name": "python3"
  },
  "language_info": {
   "codemirror_mode": {
    "name": "ipython",
    "version": 3
   },
   "file_extension": ".py",
   "mimetype": "text/x-python",
   "name": "python",
   "nbconvert_exporter": "python",
   "pygments_lexer": "ipython3",
   "version": "3.7.3"
  }
 },
 "nbformat": 4,
 "nbformat_minor": 2
}
