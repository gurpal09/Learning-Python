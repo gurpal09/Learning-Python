{
 "cells": [
  {
   "cell_type": "code",
   "execution_count": 1,
   "metadata": {},
   "outputs": [],
   "source": [
    "class Node:\n",
    "    def __init__(self, data):\n",
    "        self.data = data\n",
    "        self.left_child = None\n",
    "        self.right_child = None"
   ]
  },
  {
   "cell_type": "code",
   "execution_count": 2,
   "metadata": {},
   "outputs": [
    {
     "name": "stdout",
     "output_type": "stream",
     "text": [
      "root node\n",
      "left child node\n",
      "left grandchild node\n",
      "\n",
      "\n"
     ]
    }
   ],
   "source": [
    "n1 = Node(\"root node\")\n",
    "n2 = Node(\"left child node\")\n",
    "n3 = Node(\"right child node\")\n",
    "n4 = Node(\"left grandchild node\")\n",
    "\n",
    "n1.left_child = n2\n",
    "n1.right_child = n3\n",
    "n2.left_child = n4\n",
    "\n",
    "current = n1\n",
    "\n",
    "while current:\n",
    "    print(current.data)\n",
    "    current = current.left_child\n",
    "    \n",
    "print(\"\\n\")"
   ]
  },
  {
   "cell_type": "markdown",
   "metadata": {},
   "source": [
    "## In-Order Traversal\n",
    "1. Start with traversing left sub-tree and call inorder recursively\n",
    "2. Vist Root Node\n",
    "3. Traverse right sub-tree and call inorder function recursively"
   ]
  },
  {
   "cell_type": "code",
   "execution_count": 9,
   "metadata": {},
   "outputs": [],
   "source": [
    "def inorder(root_node):\n",
    "    current = root_node\n",
    "    if current is None:\n",
    "        return\n",
    "    inorder(current.left_child)\n",
    "    print(current.data)\n",
    "    inorder(current.right_child)"
   ]
  },
  {
   "cell_type": "code",
   "execution_count": 10,
   "metadata": {},
   "outputs": [
    {
     "name": "stdout",
     "output_type": "stream",
     "text": [
      "left grandchild node\n",
      "left child node\n",
      "root node\n",
      "right child node\n"
     ]
    }
   ],
   "source": [
    "inorder(n1)"
   ]
  },
  {
   "cell_type": "markdown",
   "metadata": {},
   "source": [
    "## Pre-Order Traversal \n",
    "1. We start traversing with root node.\n",
    "2. Traverse left sub-tree and call the preorder function with the left sub-tree recursively.\n",
    "3. Visit right sub-tree and call preorder function with right sub-tree recursively "
   ]
  },
  {
   "cell_type": "code",
   "execution_count": 12,
   "metadata": {},
   "outputs": [],
   "source": [
    "def preorder(root_node):\n",
    "    current = root_node\n",
    "    if current is None:\n",
    "        return\n",
    "    print(current.data)\n",
    "    preorder(current.left_child)\n",
    "    preorder(current.right_child)"
   ]
  },
  {
   "cell_type": "code",
   "execution_count": 15,
   "metadata": {},
   "outputs": [
    {
     "name": "stdout",
     "output_type": "stream",
     "text": [
      "root node\n",
      "left child node\n",
      "left grandchild node\n",
      "right child node\n"
     ]
    }
   ],
   "source": [
    "preorder(n1)"
   ]
  },
  {
   "cell_type": "markdown",
   "metadata": {},
   "source": [
    "## Post-Order Traversal\n",
    "1. Start Traversing the left sub-tree and call postorder function recursively.\n",
    "2. Traverse the right sub-tree and call postorder function recursively.\n",
    "3. Visit root node."
   ]
  },
  {
   "cell_type": "code",
   "execution_count": 16,
   "metadata": {},
   "outputs": [],
   "source": [
    "def postorder(root_node):\n",
    "    current = root_node\n",
    "    if current is None:\n",
    "        return\n",
    "    postorder(current.left_child)\n",
    "    postorder(current.right_child)\n",
    "    print(current.data)"
   ]
  },
  {
   "cell_type": "code",
   "execution_count": 17,
   "metadata": {},
   "outputs": [
    {
     "name": "stdout",
     "output_type": "stream",
     "text": [
      "left grandchild node\n",
      "left child node\n",
      "right child node\n",
      "root node\n"
     ]
    }
   ],
   "source": [
    "postorder(n1)"
   ]
  },
  {
   "cell_type": "markdown",
   "metadata": {},
   "source": [
    "## Breadth-first Traversal\n",
    "Starts from the root of the tree and then visits every node on the next level of the tree. "
   ]
  },
  {
   "cell_type": "markdown",
   "metadata": {},
   "source": [
    "### Implementation"
   ]
  },
  {
   "cell_type": "code",
   "execution_count": 20,
   "metadata": {},
   "outputs": [
    {
     "name": "stdout",
     "output_type": "stream",
     "text": [
      "1\n",
      "2\n",
      "3\n",
      "4\n",
      "5\n",
      "8\n",
      "10\n"
     ]
    }
   ],
   "source": [
    "n1 = Node(4)\n",
    "n2 = Node(2)\n",
    "n3 = Node(8)\n",
    "n4 = Node(1)\n",
    "n5 = Node(3)\n",
    "n6 = Node(5)\n",
    "n7 = Node(10)\n",
    "\n",
    "\n",
    "n1.left_child = n2\n",
    "n1.right_child = n3\n",
    "\n",
    "n2.left_child = n4\n",
    "n2.right_child = n5\n",
    "\n",
    "n3.left_child = n6\n",
    "n3.right_child = n7\n",
    "\n",
    "current = n1\n",
    "\n",
    "\n",
    "inorder(n1)"
   ]
  },
  {
   "cell_type": "code",
   "execution_count": 21,
   "metadata": {},
   "outputs": [],
   "source": [
    "from collections import deque \n",
    "\n",
    "def breadth_first_traversal(root_node):\n",
    "    list_of_nodes = []\n",
    "    traversal_queue = deque([root_node])\n",
    "    \n",
    "    while len(traversal_queue) > 0:\n",
    "        node = traversal_queue.popleft()\n",
    "        list_of_nodes.append(node.data)\n",
    "        if node.left_child:\n",
    "            traversal_queue.append(node.left_child)\n",
    "        if node.right_child:\n",
    "            traversal_queue.append(node.right_child)\n",
    "    return list_of_nodes"
   ]
  },
  {
   "cell_type": "code",
   "execution_count": 22,
   "metadata": {},
   "outputs": [
    {
     "data": {
      "text/plain": [
       "[4, 2, 8, 1, 3, 5, 10]"
      ]
     },
     "execution_count": 22,
     "metadata": {},
     "output_type": "execute_result"
    }
   ],
   "source": [
    "breadth_first_traversal(n1)"
   ]
  },
  {
   "cell_type": "code",
   "execution_count": null,
   "metadata": {},
   "outputs": [],
   "source": []
  }
 ],
 "metadata": {
  "kernelspec": {
   "display_name": "Python 3",
   "language": "python",
   "name": "python3"
  },
  "language_info": {
   "codemirror_mode": {
    "name": "ipython",
    "version": 3
   },
   "file_extension": ".py",
   "mimetype": "text/x-python",
   "name": "python",
   "nbconvert_exporter": "python",
   "pygments_lexer": "ipython3",
   "version": "3.7.3"
  }
 },
 "nbformat": 4,
 "nbformat_minor": 2
}
