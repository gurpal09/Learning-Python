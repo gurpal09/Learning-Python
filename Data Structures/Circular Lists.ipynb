{
 "cells": [
  {
   "cell_type": "markdown",
   "metadata": {},
   "source": [
    "# Circular Lists"
   ]
  },
  {
   "cell_type": "markdown",
   "metadata": {},
   "source": [
    "In a circular list, the endpoints are connected to each other. The last node in the list points back to the first node. In other words, there is no node that will point to NULL. They can be based on both singly and doubly linked lists. "
   ]
  },
  {
   "cell_type": "code",
   "execution_count": null,
   "metadata": {},
   "outputs": [],
   "source": [
    "class Node:\n",
    "    def __init__ (self, data = None):\n",
    "        self.data = data\n",
    "        self.next = None"
   ]
  },
  {
   "cell_type": "code",
   "execution_count": null,
   "metadata": {},
   "outputs": [],
   "source": [
    "class CircularList:\n",
    "    def __init__ (self, data = None):\n",
    "        self.head = None\n",
    "        self.tail = None\n",
    "        self.size = 0\n",
    "        \n",
    "    def clear(self):\n",
    "        self.tail = None\n",
    "        self.head = None\n",
    "        \n",
    "    def append(self, data):\n",
    "        node = Node(data)\n",
    "        if self.head:\n",
    "            self.head.next = node\n",
    "            self.head = node\n",
    "        else:\n",
    "            self.head = node\n",
    "            self.tail = node\n",
    "        self.head.next = self.tail\n",
    "        self.size += 1\n",
    "        \n",
    "    def delete(self, data):\n",
    "        current = self.tail\n",
    "        prev = self.tail\n",
    "        while prev == current or prev != self.head:\n",
    "            if current.data == data:\n",
    "                self.tail = current.next\n",
    "                self.head.next = self.tail\n",
    "            else:\n",
    "                prev.next = current.next\n",
    "            self.size -= 1\n",
    "            return \n",
    "        \n",
    "    def iter(self):\n",
    "        current = self.tail\n",
    "        while current:\n",
    "            val = current.data\n",
    "            current = current.next\n",
    "            yield val "
   ]
  },
  {
   "cell_type": "code",
   "execution_count": null,
   "metadata": {},
   "outputs": [],
   "source": [
    "words = CircularList()\n",
    "words.append('eggs')\n",
    "words.append('ham')\n",
    "words.append('spam')\n",
    "\n",
    "counter = 0\n",
    "for word in words.iter():\n",
    "    print(word)\n",
    "    counter += 0\n",
    "    if counter > 1000:\n",
    "        break\n"
   ]
  },
  {
   "cell_type": "code",
   "execution_count": null,
   "metadata": {},
   "outputs": [],
   "source": []
  },
  {
   "cell_type": "code",
   "execution_count": null,
   "metadata": {},
   "outputs": [],
   "source": []
  }
 ],
 "metadata": {
  "kernelspec": {
   "display_name": "Python 3",
   "language": "python",
   "name": "python3"
  },
  "language_info": {
   "codemirror_mode": {
    "name": "ipython",
    "version": 3
   },
   "file_extension": ".py",
   "mimetype": "text/x-python",
   "name": "python",
   "nbconvert_exporter": "python",
   "pygments_lexer": "ipython3",
   "version": "3.7.3"
  }
 },
 "nbformat": 4,
 "nbformat_minor": 2
}
