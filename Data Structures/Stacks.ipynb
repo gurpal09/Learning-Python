{
 "cells": [
  {
   "cell_type": "markdown",
   "metadata": {},
   "source": [
    "# Stacks"
   ]
  },
  {
   "cell_type": "markdown",
   "metadata": {},
   "source": [
    "A stack is a last in, first out (LIFO) structure."
   ]
  },
  {
   "cell_type": "markdown",
   "metadata": {},
   "source": [
    "* There are 2 primary operations that are performed on stacks\n",
    "   1. Push -> when an element is added to top of stack\n",
    "   2. Pop  -> when an element is picked up from top of the stack\n",
    "   3. Peek is used to see the element on top without popping it"
   ]
  },
  {
   "cell_type": "markdown",
   "metadata": {},
   "source": [
    "## Stack Implementation"
   ]
  },
  {
   "cell_type": "code",
   "execution_count": 14,
   "metadata": {},
   "outputs": [],
   "source": [
    "class Node:\n",
    "    def __init__(self, data = None):\n",
    "        self.data = data\n",
    "        self.next = None\n",
    "        "
   ]
  },
  {
   "cell_type": "markdown",
   "metadata": {},
   "source": [
    "We will need to things to implement a stack using nodes:\n",
    "1. We need to know node hich is at the top of the stack so that we will be able to apply the push and pop operations through this node.\n",
    "2. We would also like to keep track of the number of nodes in the stack, so we add a size variable to the stack class. "
   ]
  },
  {
   "cell_type": "code",
   "execution_count": 20,
   "metadata": {},
   "outputs": [],
   "source": [
    "class Stack:\n",
    "    def __init__(self):\n",
    "        self.top = Node\n",
    "        self.size = 0\n",
    "        \n",
    "    def push(self, data):\n",
    "        node = Node(data)\n",
    "        if self.top:\n",
    "            node.next = self.top\n",
    "            self.top = node\n",
    "        else: \n",
    "            self.top = node\n",
    "        self.size += 1"
   ]
  },
  {
   "cell_type": "markdown",
   "metadata": {},
   "source": [
    "## Push Operation"
   ]
  },
  {
   "cell_type": "markdown",
   "metadata": {},
   "source": [
    "If the stack already has some elements, then we have to do 2 things<br> \n",
    "1. The new node must have its next pointer pointing to the node that was at the top earlier.\n",
    "2. Put this new node at the top of the stack by pointing self.top to the newly added node. "
   ]
  },
  {
   "cell_type": "code",
   "execution_count": 16,
   "metadata": {},
   "outputs": [],
   "source": [
    "    def push(self, data):\n",
    "        node = Node(data)\n",
    "        if self.top:\n",
    "            node.next = self.top\n",
    "            self.top = node\n",
    "        else: \n",
    "            self.top = node\n",
    "        self.size += 1"
   ]
  },
  {
   "cell_type": "markdown",
   "metadata": {},
   "source": [
    "## Pop Operation"
   ]
  },
  {
   "cell_type": "markdown",
   "metadata": {},
   "source": [
    "* To implement Pop:\n",
    "   1. First check if the stack is empty. The pop operation is not allowed on an empty stack.\n",
    "   2. If the stack is not empty, it can be checked it the top node has its next attribute pointing to another node. "
   ]
  },
  {
   "cell_type": "code",
   "execution_count": 17,
   "metadata": {},
   "outputs": [],
   "source": [
    "    def pop(self):\n",
    "        if self.top:\n",
    "            data = self.top.data\n",
    "            self.size -= 1\n",
    "            if self.top.next:\n",
    "                self.top = self.top.next\n",
    "            else:\n",
    "                self.top = None\n",
    "            return data\n",
    "        else: \n",
    "            return None"
   ]
  },
  {
   "cell_type": "markdown",
   "metadata": {},
   "source": [
    "## Peek Operation"
   ]
  },
  {
   "cell_type": "code",
   "execution_count": 18,
   "metadata": {},
   "outputs": [],
   "source": [
    "    def peek(self):\n",
    "        if self.top:\n",
    "            return self.top.data\n",
    "        else:\n",
    "            return None"
   ]
  },
  {
   "cell_type": "markdown",
   "metadata": {},
   "source": [
    "## Bracket-Matching Application"
   ]
  },
  {
   "cell_type": "code",
   "execution_count": 21,
   "metadata": {},
   "outputs": [],
   "source": [
    "def check_brackets(statement):\n",
    "    stack = Stack()\n",
    "    for ch in statement:\n",
    "        if ch in ('{','[','('):\n",
    "            stack.push(ch)\n",
    "        if ch in ('}',']',')'):\n",
    "            last = stack.pop()\n",
    "        if last is '{' and ch is '}':\n",
    "            continue\n",
    "        elif last is '[' and ch is ']':\n",
    "            continue\n",
    "        elif last is '(' and ch is ')':\n",
    "            continue\n",
    "        else:\n",
    "            return False\n",
    "    if stack.size > 0:\n",
    "        return False\n",
    "    else:\n",
    "        return True"
   ]
  },
  {
   "cell_type": "code",
   "execution_count": 22,
   "metadata": {},
   "outputs": [
    {
     "ename": "UnboundLocalError",
     "evalue": "local variable 'last' referenced before assignment",
     "output_type": "error",
     "traceback": [
      "\u001b[1;31m---------------------------------------------------------------------------\u001b[0m",
      "\u001b[1;31mUnboundLocalError\u001b[0m                         Traceback (most recent call last)",
      "\u001b[1;32m<ipython-input-22-9ab533a363a9>\u001b[0m in \u001b[0;36m<module>\u001b[1;34m\u001b[0m\n\u001b[0;32m      6\u001b[0m \u001b[1;33m\u001b[0m\u001b[0m\n\u001b[0;32m      7\u001b[0m \u001b[1;32mfor\u001b[0m \u001b[0ms\u001b[0m \u001b[1;32min\u001b[0m \u001b[0ms1\u001b[0m\u001b[1;33m:\u001b[0m\u001b[1;33m\u001b[0m\u001b[1;33m\u001b[0m\u001b[0m\n\u001b[1;32m----> 8\u001b[1;33m     \u001b[0mm\u001b[0m \u001b[1;33m=\u001b[0m \u001b[0mcheck_brackets\u001b[0m\u001b[1;33m(\u001b[0m\u001b[0ms\u001b[0m\u001b[1;33m)\u001b[0m\u001b[1;33m\u001b[0m\u001b[1;33m\u001b[0m\u001b[0m\n\u001b[0m\u001b[0;32m      9\u001b[0m     \u001b[0mprint\u001b[0m\u001b[1;33m(\u001b[0m\u001b[1;34m\"{}: {}\"\u001b[0m\u001b[1;33m.\u001b[0m\u001b[0mformat\u001b[0m\u001b[1;33m(\u001b[0m\u001b[0ms\u001b[0m\u001b[1;33m,\u001b[0m\u001b[0mm\u001b[0m\u001b[1;33m)\u001b[0m\u001b[1;33m)\u001b[0m\u001b[1;33m\u001b[0m\u001b[1;33m\u001b[0m\u001b[0m\n",
      "\u001b[1;32m<ipython-input-21-26e86a068a00>\u001b[0m in \u001b[0;36mcheck_brackets\u001b[1;34m(statement)\u001b[0m\n\u001b[0;32m      6\u001b[0m         \u001b[1;32mif\u001b[0m \u001b[0mch\u001b[0m \u001b[1;32min\u001b[0m \u001b[1;33m(\u001b[0m\u001b[1;34m'}'\u001b[0m\u001b[1;33m,\u001b[0m\u001b[1;34m']'\u001b[0m\u001b[1;33m,\u001b[0m\u001b[1;34m')'\u001b[0m\u001b[1;33m)\u001b[0m\u001b[1;33m:\u001b[0m\u001b[1;33m\u001b[0m\u001b[1;33m\u001b[0m\u001b[0m\n\u001b[0;32m      7\u001b[0m             \u001b[0mlast\u001b[0m \u001b[1;33m=\u001b[0m \u001b[0mstack\u001b[0m\u001b[1;33m.\u001b[0m\u001b[0mpop\u001b[0m\u001b[1;33m(\u001b[0m\u001b[1;33m)\u001b[0m\u001b[1;33m\u001b[0m\u001b[1;33m\u001b[0m\u001b[0m\n\u001b[1;32m----> 8\u001b[1;33m         \u001b[1;32mif\u001b[0m \u001b[0mlast\u001b[0m \u001b[1;32mis\u001b[0m \u001b[1;34m'{'\u001b[0m \u001b[1;32mand\u001b[0m \u001b[0mch\u001b[0m \u001b[1;32mis\u001b[0m \u001b[1;34m'}'\u001b[0m\u001b[1;33m:\u001b[0m\u001b[1;33m\u001b[0m\u001b[1;33m\u001b[0m\u001b[0m\n\u001b[0m\u001b[0;32m      9\u001b[0m             \u001b[1;32mcontinue\u001b[0m\u001b[1;33m\u001b[0m\u001b[1;33m\u001b[0m\u001b[0m\n\u001b[0;32m     10\u001b[0m         \u001b[1;32melif\u001b[0m \u001b[0mlast\u001b[0m \u001b[1;32mis\u001b[0m \u001b[1;34m'['\u001b[0m \u001b[1;32mand\u001b[0m \u001b[0mch\u001b[0m \u001b[1;32mis\u001b[0m \u001b[1;34m']'\u001b[0m\u001b[1;33m:\u001b[0m\u001b[1;33m\u001b[0m\u001b[1;33m\u001b[0m\u001b[0m\n",
      "\u001b[1;31mUnboundLocalError\u001b[0m: local variable 'last' referenced before assignment"
     ]
    }
   ],
   "source": [
    "s1 = (\n",
    "    \"{ (foo) (bar) } [hello] (((this)is)a)test\",\n",
    "    \"{ (foo) (bar) } [hello] (((this)is)atest\",\n",
    "    \"{ (foo) (bar) } [hello] (((this)is)a)test))\"\n",
    ")\n",
    "\n",
    "for s in s1:\n",
    "    m = check_brackets(s)\n",
    "    print(\"{}: {}\".format(s,m))"
   ]
  },
  {
   "cell_type": "code",
   "execution_count": null,
   "metadata": {},
   "outputs": [],
   "source": []
  }
 ],
 "metadata": {
  "kernelspec": {
   "display_name": "Python 3",
   "language": "python",
   "name": "python3"
  },
  "language_info": {
   "codemirror_mode": {
    "name": "ipython",
    "version": 3
   },
   "file_extension": ".py",
   "mimetype": "text/x-python",
   "name": "python",
   "nbconvert_exporter": "python",
   "pygments_lexer": "ipython3",
   "version": "3.7.3"
  }
 },
 "nbformat": 4,
 "nbformat_minor": 2
}
