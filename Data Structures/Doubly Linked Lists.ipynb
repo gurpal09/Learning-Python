{
 "cells": [
  {
   "cell_type": "markdown",
   "metadata": {},
   "source": [
    "## Doubly Linked List"
   ]
  },
  {
   "cell_type": "markdown",
   "metadata": {},
   "source": [
    "A doubly linked list is quites similar to the singly linked list. Now we will need two links for each node. One forward and and one behind. Doubly linked lists can be traversed in any direction. "
   ]
  },
  {
   "cell_type": "markdown",
   "metadata": {},
   "source": [
    "### A doubly linked list node"
   ]
  },
  {
   "cell_type": "code",
   "execution_count": 2,
   "metadata": {},
   "outputs": [],
   "source": [
    "class Node(object):\n",
    "    def __init__ (self, data=None, next=None, prev=None):\n",
    "        self.data = data\n",
    "        self.next = next\n",
    "        self.prev = prev"
   ]
  },
  {
   "cell_type": "markdown",
   "metadata": {},
   "source": [
    "### Doubly linked list class"
   ]
  },
  {
   "cell_type": "code",
   "execution_count": 3,
   "metadata": {},
   "outputs": [],
   "source": [
    "class DoublyLinkedList(object):\n",
    "    def init (self):\n",
    "        self.head = None\n",
    "        self.tail = None\n",
    "        self.count = 0\n",
    "        "
   ]
  },
  {
   "cell_type": "markdown",
   "metadata": {},
   "source": [
    "self.head -> points to the beginner node of the list.\n",
    "self.tail -> points to the latest node added to the list."
   ]
  },
  {
   "cell_type": "markdown",
   "metadata": {},
   "source": [
    "### Append Operation"
   ]
  },
  {
   "cell_type": "code",
   "execution_count": 4,
   "metadata": {},
   "outputs": [],
   "source": [
    "    def append(self, data):\n",
    "        # Append an item to the list\n",
    "        new_node = Node(data, None, None)\n",
    "        if self.head is None: \n",
    "            self.head = new_node\n",
    "            self.tail = self.head\n",
    "        else:\n",
    "            new_node.prev = self.tail\n",
    "            self.tail.next = new_node\n",
    "            self.tail = new_node\n",
    "            self.count += 1"
   ]
  },
  {
   "cell_type": "markdown",
   "metadata": {},
   "source": [
    "### The delete operation"
   ]
  },
  {
   "cell_type": "code",
   "execution_count": 5,
   "metadata": {},
   "outputs": [],
   "source": [
    "def delete (self, data):\n",
    "    current = self.head\n",
    "    node_deleted = False\n",
    "    if current is None:          # Item to be deleted is not found in the list\n",
    "        node_deleted = False\n",
    "    elif current.data == data:   # Item to be deleted is found at starting of list \n",
    "        self.head = current.next \n",
    "        self.head.prev = None\n",
    "        node_deleted = True\n",
    "    elif self.tail.data == data: # Item to be deleted is found at the end of list\n",
    "        self.tail = self.tail.prev\n",
    "        self.tail.next = None\n",
    "        node_deleted = True\n",
    "    else:\n",
    "        while current:           # Search item to be deleted, and delete that node\n",
    "            if current.data == data:\n",
    "                current.prev.next = current.next\n",
    "                current.next.prev = current.prev\n",
    "                node_deleted = True\n",
    "            current = current.next\n",
    "        if node_deleted:\n",
    "            self.count -= 1"
   ]
  },
  {
   "cell_type": "markdown",
   "metadata": {},
   "source": [
    "### List Search"
   ]
  },
  {
   "cell_type": "code",
   "execution_count": 7,
   "metadata": {},
   "outputs": [],
   "source": [
    "def contain(self, data):\n",
    "    for node_data in self.iiter():\n",
    "        if data == node_data:\n",
    "            return True\n",
    "    return False "
   ]
  },
  {
   "cell_type": "markdown",
   "metadata": {},
   "source": [
    "* The append operation in a doubly linked list has running time complexity O(1) and the delete operation has complexity O(n)"
   ]
  }
 ],
 "metadata": {
  "kernelspec": {
   "display_name": "Python 3",
   "language": "python",
   "name": "python3"
  },
  "language_info": {
   "codemirror_mode": {
    "name": "ipython",
    "version": 3
   },
   "file_extension": ".py",
   "mimetype": "text/x-python",
   "name": "python",
   "nbconvert_exporter": "python",
   "pygments_lexer": "ipython3",
   "version": "3.7.3"
  }
 },
 "nbformat": 4,
 "nbformat_minor": 2
}
