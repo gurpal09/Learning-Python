{
 "cells": [
  {
   "cell_type": "markdown",
   "metadata": {},
   "source": [
    "# Node-based queues"
   ]
  },
  {
   "cell_type": "markdown",
   "metadata": {},
   "source": [
    "* A queue can be implemented using a doubly linked list, and insertion and deletion operations on this data structure, and that has a time complexity of O(1)."
   ]
  },
  {
   "cell_type": "code",
   "execution_count": 2,
   "metadata": {},
   "outputs": [],
   "source": [
    "class Node(object):\n",
    "    def __init__(self, data=None, next=None, prev=None):\n",
    "        self.data = data;\n",
    "        self.next = next;\n",
    "        self.prev = prev;\n",
    "\n",
    "class Queue:\n",
    "    def __init__(self):\n",
    "        self.head = None\n",
    "        self.tail = None\n",
    "        self.count = 0\n",
    "        \n",
    "    def enqueue(self, data):\n",
    "        new_node = Node(data, None, None)\n",
    "        if self.head is None: \n",
    "            self.head = new_node\n",
    "            self.tail = self.head \n",
    "        else:\n",
    "            new_node.prev = self.tail\n",
    "            self.tail.next = new_node\n",
    "            self.tail = new_node\n",
    "        self.count += 1\n",
    "        \n",
    "    def dequeue(self):\n",
    "        current = self.head\n",
    "            if self.count == 1:\n",
    "                self.count -= 1\n",
    "                self.head = None\n",
    "                self.tail = None\n",
    "            elif self.count > 1:\n",
    "                self.head = self.head.next\n",
    "                self.head.prev = None\n",
    "                self.count -= 1\n",
    "    "
   ]
  },
  {
   "cell_type": "code",
   "execution_count": null,
   "metadata": {},
   "outputs": [],
   "source": []
  }
 ],
 "metadata": {
  "kernelspec": {
   "display_name": "Python 3",
   "language": "python",
   "name": "python3"
  },
  "language_info": {
   "codemirror_mode": {
    "name": "ipython",
    "version": 3
   },
   "file_extension": ".py",
   "mimetype": "text/x-python",
   "name": "python",
   "nbconvert_exporter": "python",
   "pygments_lexer": "ipython3",
   "version": "3.7.3"
  }
 },
 "nbformat": 4,
 "nbformat_minor": 2
}
