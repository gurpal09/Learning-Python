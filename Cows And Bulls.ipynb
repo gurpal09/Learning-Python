{
 "cells": [
  {
   "cell_type": "markdown",
   "metadata": {},
   "source": [
    "Create a program that will play the “cows and bulls” game with the user. The game works like this:\n",
    "\n",
    "Randomly generate a 4-digit number. Ask the user to guess a 4-digit number. For every digit that the user guessed correctly in the correct place, they have a “cow”. For every digit the user guessed correctly in the wrong place is a “bull.” Every time the user makes a guess, tell them how many “cows” and “bulls” they have. Once the user guesses the correct number, the game is over. Keep track of the number of guesses the user makes throughout teh game and tell the user at the end."
   ]
  },
  {
   "cell_type": "code",
   "execution_count": 43,
   "metadata": {},
   "outputs": [],
   "source": [
    "# Randomly generating a 4 digit number\n",
    "import random\n",
    "\n",
    "def generate_number():\n",
    "    return random.randint(1000,9999)\n",
    "\n",
    "# Retrieve User Guess\n",
    "def get_user_guess():\n",
    "    return int(input('Enter four digit number: '))\n",
    "\n",
    "# Check Function\n",
    "def check_number(guess, number):\n",
    "    \n",
    "    # Vars to keep count\n",
    "    cow = 0\n",
    "    bull = 4\n",
    "    \n",
    "    # Convert to strings\n",
    "    number = str(number)\n",
    "    guess = str(guess)\n",
    "    x = 0\n",
    "    \n",
    "    # For loop for comparison\n",
    "    for num in number:\n",
    "        if num == guess[x]:\n",
    "            cow += 1\n",
    "            bull -= 1\n",
    "        x += 1\n",
    "        \n",
    "    return cow, bull"
   ]
  },
  {
   "cell_type": "code",
   "execution_count": 44,
   "metadata": {},
   "outputs": [
    {
     "name": "stdout",
     "output_type": "stream",
     "text": [
      "randnumb =  8033\n",
      "Enter four digit number: 43\n",
      "Enter four digit number: 333\n",
      "Enter four digit number: 4433\n",
      "8\n",
      "0\n",
      "3\n",
      "3\n",
      "cow:  2\n",
      "bull:  2\n",
      "# of guesses:  2\n",
      "Enter four digit number: 4343\n",
      "8\n",
      "0\n",
      "3\n",
      "3\n",
      "cow:  1\n",
      "bull:  3\n",
      "# of guesses:  3\n",
      "Enter four digit number: 8033\n",
      "8\n",
      "0\n",
      "3\n",
      "3\n",
      "cow:  4\n",
      "bull:  0\n",
      "# of guesses:  4\n"
     ]
    }
   ],
   "source": [
    "# Begin the game\n",
    "x = generate_number()\n",
    "print('randnumb = ', x)\n",
    "\n",
    "# Keep going until valid guess\n",
    "b = '0'\n",
    "while len(b)<3:\n",
    "    b = str(get_user_guess())\n",
    "    \n",
    "# Loop to keep game going and track guesses\n",
    "num_guess = 1\n",
    "while x!=b:\n",
    "    b = get_user_guess()\n",
    "    cow,bull = check_number(b,x)\n",
    "    num_guess +=1\n",
    "    print('cow: ', cow)\n",
    "    print('bull: ', bull)\n",
    "    print('# of guesses: ', num_guess)"
   ]
  },
  {
   "cell_type": "code",
   "execution_count": null,
   "metadata": {},
   "outputs": [],
   "source": []
  }
 ],
 "metadata": {
  "kernelspec": {
   "display_name": "Python 3",
   "language": "python",
   "name": "python3"
  },
  "language_info": {
   "codemirror_mode": {
    "name": "ipython",
    "version": 3
   },
   "file_extension": ".py",
   "mimetype": "text/x-python",
   "name": "python",
   "nbconvert_exporter": "python",
   "pygments_lexer": "ipython3",
   "version": "3.7.3"
  }
 },
 "nbformat": 4,
 "nbformat_minor": 2
}
