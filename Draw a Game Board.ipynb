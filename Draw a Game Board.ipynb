{
 "cells": [
  {
   "cell_type": "markdown",
   "metadata": {},
   "source": [
    "This exercise is Part 1 of 4 of the Tic Tac Toe exercise series. The other exercises are: Part 2, Part 3, and Part 4.\n",
    "\n",
    "Time for some fake graphics! Let’s say we want to draw game boards that look like this:\n",
    "\n",
    " --- --- --- \n",
    "|   |   |   | \n",
    " --- --- ---  \n",
    "|   |   |   | \n",
    " --- --- ---  \n",
    "|   |   |   | \n",
    " --- --- --- \n",
    "This one is 3x3 (like in tic tac toe). Obviously, they come in many other sizes (8x8 for chess, 19x19 for Go, and many more).\n",
    "\n",
    "Ask the user what size game board they want to draw, and draw it for them to the screen using Python’s print statement.\n",
    "\n",
    "Remember that in Python 3, printing to the screen is accomplished by\n",
    "\n",
    "  print(\"Thing to show on screen\")"
   ]
  },
  {
   "cell_type": "code",
   "execution_count": 26,
   "metadata": {},
   "outputs": [],
   "source": [
    "# Specify gameboard dimension\n",
    "N = 3"
   ]
  },
  {
   "cell_type": "code",
   "execution_count": 27,
   "metadata": {},
   "outputs": [],
   "source": [
    "def draw_gameboard(size):\n",
    "    a = '--- '\n",
    "    b = '   |'\n",
    "    for x in range(0,size):\n",
    "        #print(x)\n",
    "        print(' ' + a*N)\n",
    "        print('|' + b*N)\n",
    "    print(' ' + a*N)"
   ]
  },
  {
   "cell_type": "code",
   "execution_count": 28,
   "metadata": {},
   "outputs": [
    {
     "name": "stdout",
     "output_type": "stream",
     "text": [
      " --- --- --- \n",
      "|   |   |   |\n",
      " --- --- --- \n",
      "|   |   |   |\n",
      " --- --- --- \n",
      "|   |   |   |\n",
      " --- --- --- \n"
     ]
    }
   ],
   "source": [
    "draw_gameboard(N)"
   ]
  },
  {
   "cell_type": "code",
   "execution_count": null,
   "metadata": {},
   "outputs": [],
   "source": []
  }
 ],
 "metadata": {
  "kernelspec": {
   "display_name": "Python 3",
   "language": "python",
   "name": "python3"
  },
  "language_info": {
   "codemirror_mode": {
    "name": "ipython",
    "version": 3
   },
   "file_extension": ".py",
   "mimetype": "text/x-python",
   "name": "python",
   "nbconvert_exporter": "python",
   "pygments_lexer": "ipython3",
   "version": "3.7.3"
  }
 },
 "nbformat": 4,
 "nbformat_minor": 2
}
