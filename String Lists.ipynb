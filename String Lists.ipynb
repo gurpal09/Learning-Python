{
 "cells": [
  {
   "cell_type": "markdown",
   "metadata": {},
   "source": [
    "Ask the user for a string and print out whether this string is a palindrome or not. (A palindrome is a string that reads the same forwards and backwards.)"
   ]
  },
  {
   "cell_type": "code",
   "execution_count": 101,
   "metadata": {},
   "outputs": [
    {
     "name": "stdout",
     "output_type": "stream",
     "text": [
      "Object `I` not found.\n",
      "was it a cat i saw?\n",
      "wasitacatisaw\n"
     ]
    }
   ],
   "source": [
    "# Regularize the string expression\n",
    "a = 'Madam In Eden, I\\'m Adam'\n",
    "b = 'I did, did I?\n",
    "c = 'Rotator'\n",
    "d = 'Was it a cat I saw?'\n",
    "\n",
    "string = d\n",
    "\n",
    "# Change everything into lowercase\n",
    "string = string.lower()\n",
    "\n",
    "# Check for Periods\n",
    "string = string.replace('.','')\n",
    "print(string)\n",
    "\n",
    "# Check for Exclamation & Question Mark\n",
    "string = string.replace('!','')\n",
    "string = string.replace('?','')\n",
    "\n",
    "# Check for Apostrophe & Commas\n",
    "string = string.replace('\\'','')\n",
    "string = string.replace(',','')\n",
    "\n",
    "# Remove spaces\n",
    "string = string.replace(' ','')\n",
    "\n",
    "print(string)"
   ]
  },
  {
   "cell_type": "code",
   "execution_count": 102,
   "metadata": {},
   "outputs": [
    {
     "name": "stdout",
     "output_type": "stream",
     "text": [
      "wasitacatisaw\n",
      "Palindrome!!!\n"
     ]
    }
   ],
   "source": [
    "# Palindrome: Sequence that reads the same backward as forward\n",
    "rvs = string[::-1]\n",
    "print(rvs)\n",
    "if rvs == string:\n",
    "    print(\"Palindrome!!!\")\n",
    "else:\n",
    "    print(\"Not a palindrome!\")\n",
    "\n",
    "        \n",
    "        "
   ]
  }
 ],
 "metadata": {
  "kernelspec": {
   "display_name": "Python 3",
   "language": "python",
   "name": "python3"
  },
  "language_info": {
   "codemirror_mode": {
    "name": "ipython",
    "version": 3
   },
   "file_extension": ".py",
   "mimetype": "text/x-python",
   "name": "python",
   "nbconvert_exporter": "python",
   "pygments_lexer": "ipython3",
   "version": "3.7.3"
  }
 },
 "nbformat": 4,
 "nbformat_minor": 2
}
