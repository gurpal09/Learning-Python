{
 "cells": [
  {
   "cell_type": "markdown",
   "metadata": {},
   "source": [
    "Take two lists, say for example these two:\n",
    "\n",
    "  a = [1, 1, 2, 3, 5, 8, 13, 21, 34, 55, 89] <br>\n",
    "  b = [1, 2, 3, 4, 5, 6, 7, 8, 9, 10, 11, 12, 13]<br>\n",
    "and write a program that returns a list that contains only the elements that are common between the lists (without duplicates). Make sure your program works on two lists of different sizes.\n",
    "\n",
    "Extras:\n",
    "\n",
    "Randomly generate two lists to test this\n",
    "Write this in one line of Python (don’t worry if you can’t figure this out at this point - we’ll get to it soon)"
   ]
  },
  {
   "cell_type": "code",
   "execution_count": 10,
   "metadata": {},
   "outputs": [
    {
     "name": "stdout",
     "output_type": "stream",
     "text": [
      "List [a]: [10, 3, 7, 5, 3, 2, 2, 8, 10, 4]\n",
      "list [b]: [6, 2, 7, 1, 5, 1, 1, 7, 8, 10]\n"
     ]
    }
   ],
   "source": [
    "import random\n",
    "\n",
    "# Length of lists\n",
    "n = 10;\n",
    "\n",
    "a = [random.randint(1,n) for _ in range(n)]\n",
    "b = [random.randint(1,n) for _ in range(n)]\n",
    "c =[]\n",
    "\n",
    "\n",
    "print('List [a]: ' + str(a))\n",
    "print('list [b]: ' + str(b))\n",
    "\n",
    "for m in a:\n",
    "    if m in b:\n",
    "            if m not in c:\n",
    "                c.append(m)"
   ]
  },
  {
   "cell_type": "code",
   "execution_count": 11,
   "metadata": {},
   "outputs": [
    {
     "name": "stdout",
     "output_type": "stream",
     "text": [
      "[10, 7, 5, 2, 8]\n"
     ]
    }
   ],
   "source": [
    "print(c)"
   ]
  }
 ],
 "metadata": {
  "kernelspec": {
   "display_name": "Python 3",
   "language": "python",
   "name": "python3"
  },
  "language_info": {
   "codemirror_mode": {
    "name": "ipython",
    "version": 3
   },
   "file_extension": ".py",
   "mimetype": "text/x-python",
   "name": "python",
   "nbconvert_exporter": "python",
   "pygments_lexer": "ipython3",
   "version": "3.7.3"
  }
 },
 "nbformat": 4,
 "nbformat_minor": 2
}
