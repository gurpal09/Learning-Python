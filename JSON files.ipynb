{
 "cells": [
  {
   "cell_type": "markdown",
   "metadata": {},
   "source": [
    "The JSON file format was developed in early 2000s as standard for how web servers would pass data back and forth. The JSON format specifies a a way to serialize (turn into a string) a dictionary or list.\n",
    "* Built in Python library for reading and riting JSON files"
   ]
  },
  {
   "cell_type": "code",
   "execution_count": 4,
   "metadata": {},
   "outputs": [],
   "source": [
    "# import json library\n",
    "import json\n",
    "\n",
    "# initialize dictionary\n",
    "info_about_me = {\n",
    "    'name': 'Gurpal',\n",
    "    'has_a_dog': False\n",
    "}"
   ]
  },
  {
   "cell_type": "code",
   "execution_count": 5,
   "metadata": {},
   "outputs": [],
   "source": [
    "# To save dictionary to disk, need to open file and use jsno.dump()\n",
    "with open('info.json','w') as f:\n",
    "    json.dump(info_about_me, f)"
   ]
  },
  {
   "cell_type": "code",
   "execution_count": 6,
   "metadata": {},
   "outputs": [
    {
     "name": "stdout",
     "output_type": "stream",
     "text": [
      "Gurpal does not have a dog\n"
     ]
    }
   ],
   "source": [
    "# To open file and view contents\n",
    "with open('info.json', 'r') as f:\n",
    "    info = json.load(f)\n",
    "    \n",
    "if info['has_a_dog']:\n",
    "    print('() has a dog'.format(info['name']))\n",
    "else:\n",
    "    print('{} does not have a dog'.format(info['name']))"
   ]
  },
  {
   "cell_type": "markdown",
   "metadata": {},
   "source": [
    "In the previous exercise we created a dictionary of famous scientists’ birthdays. In this exercise, modify your program from Part 1 to load the birthday dictionary from a JSON file on disk, rather than having the dictionary defined in the program.\n",
    "\n",
    "Bonus: Ask the user for another scientist’s name and birthday to add to the dictionary, and update the JSON file you have on disk with the scientist’s name. If you run the program multiple times and keep adding new names, your JSON file should keep getting bigger and bigger."
   ]
  },
  {
   "cell_type": "code",
   "execution_count": null,
   "metadata": {},
   "outputs": [],
   "source": []
  }
 ],
 "metadata": {
  "kernelspec": {
   "display_name": "Python 3",
   "language": "python",
   "name": "python3"
  },
  "language_info": {
   "codemirror_mode": {
    "name": "ipython",
    "version": 3
   },
   "file_extension": ".py",
   "mimetype": "text/x-python",
   "name": "python",
   "nbconvert_exporter": "python",
   "pygments_lexer": "ipython3",
   "version": "3.7.3"
  }
 },
 "nbformat": 4,
 "nbformat_minor": 2
}
